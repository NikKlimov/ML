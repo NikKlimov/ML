{
 "cells": [
  {
   "cell_type": "markdown",
   "id": "b678a24e",
   "metadata": {},
   "source": [
    "# Задание:\n",
    "\n",
    "1. Выберите набор данных (датасет) для решения задачи классификации или регрессии.\n",
    "2. В случае необходимости проведите удаление или заполнение пропусков и кодирование категориальных признаков.\n",
    "3. С использованием метода train_test_split разделите выборку на обучающую и тестовую.\n",
    "4. Обучите модель ближайших соседей для произвольно заданного гиперпараметра K. Оцените качество модели с помощью подходящих для задачи метрик.\n",
    "5. Произведите подбор гиперпараметра K с использованием GridSearchCV и RandomizedSearchCV и кросс-валидации, оцените качество оптимальной модели. Используйте не менее двух стратегий кросс-валидации.\n",
    "6. Сравните метрики качества исходной и оптимальной моделей."
   ]
  },
  {
   "cell_type": "markdown",
   "id": "cab7adb6",
   "metadata": {},
   "source": [
    "# 1. Подготовка данных"
   ]
  },
  {
   "cell_type": "code",
   "execution_count": 51,
   "id": "988c1227",
   "metadata": {},
   "outputs": [],
   "source": [
    "from IPython.display import Image\n",
    "import numpy as np\n",
    "import pandas as pd\n",
    "from sklearn.model_selection import train_test_split\n",
    "from sklearn.datasets import load_iris, load_boston\n",
    "from sklearn.neighbors import KNeighborsRegressor, KNeighborsClassifier\n",
    "from sklearn.model_selection import cross_val_score, cross_validate\n",
    "from sklearn.model_selection import KFold, RepeatedKFold, LeaveOneOut, LeavePOut, ShuffleSplit, StratifiedKFold\n",
    "from sklearn.metrics import accuracy_score, balanced_accuracy_score\n",
    "from sklearn.metrics import precision_score, recall_score, f1_score, classification_report\n",
    "from sklearn.metrics import confusion_matrix\n",
    "from sklearn.metrics import mean_absolute_error, mean_squared_error, mean_squared_log_error, median_absolute_error, r2_score \n",
    "from sklearn.metrics import roc_curve, roc_auc_score\n",
    "from sklearn.model_selection import GridSearchCV, RandomizedSearchCV\n",
    "from sklearn.model_selection import learning_curve, validation_curve\n",
    "import seaborn as sns\n",
    "from operator import itemgetter\n",
    "import matplotlib.pyplot as plt\n",
    "import matplotlib.ticker as ticker\n",
    "from typing import Dict, Tuple\n",
    "import math\n",
    "import matplotlib.pyplot as plt\n",
    "%matplotlib inline \n",
    "sns.set(style=\"ticks\")"
   ]
  },
  {
   "cell_type": "code",
   "execution_count": 151,
   "id": "d7b9b3db",
   "metadata": {},
   "outputs": [],
   "source": [
    "# Будем анализировать данные только на обучающей выборке\n",
    "df = pd.read_csv('/Users/evgeniayurova/Desktop/ML/House Price India.csv')"
   ]
  },
  {
   "cell_type": "code",
   "execution_count": 152,
   "id": "88753a35",
   "metadata": {},
   "outputs": [
    {
     "data": {
      "text/html": [
       "<div>\n",
       "<style scoped>\n",
       "    .dataframe tbody tr th:only-of-type {\n",
       "        vertical-align: middle;\n",
       "    }\n",
       "\n",
       "    .dataframe tbody tr th {\n",
       "        vertical-align: top;\n",
       "    }\n",
       "\n",
       "    .dataframe thead th {\n",
       "        text-align: right;\n",
       "    }\n",
       "</style>\n",
       "<table border=\"1\" class=\"dataframe\">\n",
       "  <thead>\n",
       "    <tr style=\"text-align: right;\">\n",
       "      <th></th>\n",
       "      <th>id</th>\n",
       "      <th>Date</th>\n",
       "      <th>number of bedrooms</th>\n",
       "      <th>number of bathrooms</th>\n",
       "      <th>living area</th>\n",
       "      <th>lot area</th>\n",
       "      <th>number of floors</th>\n",
       "      <th>waterfront present</th>\n",
       "      <th>number of views</th>\n",
       "      <th>condition of the house</th>\n",
       "      <th>...</th>\n",
       "      <th>Built Year</th>\n",
       "      <th>Renovation Year</th>\n",
       "      <th>Postal Code</th>\n",
       "      <th>Lattitude</th>\n",
       "      <th>Longitude</th>\n",
       "      <th>living_area_renov</th>\n",
       "      <th>lot_area_renov</th>\n",
       "      <th>Number of schools nearby</th>\n",
       "      <th>Distance from the airport</th>\n",
       "      <th>Price</th>\n",
       "    </tr>\n",
       "  </thead>\n",
       "  <tbody>\n",
       "    <tr>\n",
       "      <th>0</th>\n",
       "      <td>6762810145</td>\n",
       "      <td>42491</td>\n",
       "      <td>5</td>\n",
       "      <td>2.50</td>\n",
       "      <td>3650</td>\n",
       "      <td>9050</td>\n",
       "      <td>2.0</td>\n",
       "      <td>0</td>\n",
       "      <td>4</td>\n",
       "      <td>5</td>\n",
       "      <td>...</td>\n",
       "      <td>1921</td>\n",
       "      <td>0</td>\n",
       "      <td>122003</td>\n",
       "      <td>52.8645</td>\n",
       "      <td>-114.557</td>\n",
       "      <td>2880</td>\n",
       "      <td>5400</td>\n",
       "      <td>2</td>\n",
       "      <td>58</td>\n",
       "      <td>2380000</td>\n",
       "    </tr>\n",
       "    <tr>\n",
       "      <th>1</th>\n",
       "      <td>6762810635</td>\n",
       "      <td>42491</td>\n",
       "      <td>4</td>\n",
       "      <td>2.50</td>\n",
       "      <td>2920</td>\n",
       "      <td>4000</td>\n",
       "      <td>1.5</td>\n",
       "      <td>0</td>\n",
       "      <td>0</td>\n",
       "      <td>5</td>\n",
       "      <td>...</td>\n",
       "      <td>1909</td>\n",
       "      <td>0</td>\n",
       "      <td>122004</td>\n",
       "      <td>52.8878</td>\n",
       "      <td>-114.470</td>\n",
       "      <td>2470</td>\n",
       "      <td>4000</td>\n",
       "      <td>2</td>\n",
       "      <td>51</td>\n",
       "      <td>1400000</td>\n",
       "    </tr>\n",
       "    <tr>\n",
       "      <th>2</th>\n",
       "      <td>6762810998</td>\n",
       "      <td>42491</td>\n",
       "      <td>5</td>\n",
       "      <td>2.75</td>\n",
       "      <td>2910</td>\n",
       "      <td>9480</td>\n",
       "      <td>1.5</td>\n",
       "      <td>0</td>\n",
       "      <td>0</td>\n",
       "      <td>3</td>\n",
       "      <td>...</td>\n",
       "      <td>1939</td>\n",
       "      <td>0</td>\n",
       "      <td>122004</td>\n",
       "      <td>52.8852</td>\n",
       "      <td>-114.468</td>\n",
       "      <td>2940</td>\n",
       "      <td>6600</td>\n",
       "      <td>1</td>\n",
       "      <td>53</td>\n",
       "      <td>1200000</td>\n",
       "    </tr>\n",
       "    <tr>\n",
       "      <th>3</th>\n",
       "      <td>6762812605</td>\n",
       "      <td>42491</td>\n",
       "      <td>4</td>\n",
       "      <td>2.50</td>\n",
       "      <td>3310</td>\n",
       "      <td>42998</td>\n",
       "      <td>2.0</td>\n",
       "      <td>0</td>\n",
       "      <td>0</td>\n",
       "      <td>3</td>\n",
       "      <td>...</td>\n",
       "      <td>2001</td>\n",
       "      <td>0</td>\n",
       "      <td>122005</td>\n",
       "      <td>52.9532</td>\n",
       "      <td>-114.321</td>\n",
       "      <td>3350</td>\n",
       "      <td>42847</td>\n",
       "      <td>3</td>\n",
       "      <td>76</td>\n",
       "      <td>838000</td>\n",
       "    </tr>\n",
       "    <tr>\n",
       "      <th>4</th>\n",
       "      <td>6762812919</td>\n",
       "      <td>42491</td>\n",
       "      <td>3</td>\n",
       "      <td>2.00</td>\n",
       "      <td>2710</td>\n",
       "      <td>4500</td>\n",
       "      <td>1.5</td>\n",
       "      <td>0</td>\n",
       "      <td>0</td>\n",
       "      <td>4</td>\n",
       "      <td>...</td>\n",
       "      <td>1929</td>\n",
       "      <td>0</td>\n",
       "      <td>122006</td>\n",
       "      <td>52.9047</td>\n",
       "      <td>-114.485</td>\n",
       "      <td>2060</td>\n",
       "      <td>4500</td>\n",
       "      <td>1</td>\n",
       "      <td>51</td>\n",
       "      <td>805000</td>\n",
       "    </tr>\n",
       "    <tr>\n",
       "      <th>...</th>\n",
       "      <td>...</td>\n",
       "      <td>...</td>\n",
       "      <td>...</td>\n",
       "      <td>...</td>\n",
       "      <td>...</td>\n",
       "      <td>...</td>\n",
       "      <td>...</td>\n",
       "      <td>...</td>\n",
       "      <td>...</td>\n",
       "      <td>...</td>\n",
       "      <td>...</td>\n",
       "      <td>...</td>\n",
       "      <td>...</td>\n",
       "      <td>...</td>\n",
       "      <td>...</td>\n",
       "      <td>...</td>\n",
       "      <td>...</td>\n",
       "      <td>...</td>\n",
       "      <td>...</td>\n",
       "      <td>...</td>\n",
       "      <td>...</td>\n",
       "    </tr>\n",
       "    <tr>\n",
       "      <th>14615</th>\n",
       "      <td>6762830250</td>\n",
       "      <td>42734</td>\n",
       "      <td>2</td>\n",
       "      <td>1.50</td>\n",
       "      <td>1556</td>\n",
       "      <td>20000</td>\n",
       "      <td>1.0</td>\n",
       "      <td>0</td>\n",
       "      <td>0</td>\n",
       "      <td>4</td>\n",
       "      <td>...</td>\n",
       "      <td>1957</td>\n",
       "      <td>0</td>\n",
       "      <td>122066</td>\n",
       "      <td>52.6191</td>\n",
       "      <td>-114.472</td>\n",
       "      <td>2250</td>\n",
       "      <td>17286</td>\n",
       "      <td>3</td>\n",
       "      <td>76</td>\n",
       "      <td>221700</td>\n",
       "    </tr>\n",
       "    <tr>\n",
       "      <th>14616</th>\n",
       "      <td>6762830339</td>\n",
       "      <td>42734</td>\n",
       "      <td>3</td>\n",
       "      <td>2.00</td>\n",
       "      <td>1680</td>\n",
       "      <td>7000</td>\n",
       "      <td>1.5</td>\n",
       "      <td>0</td>\n",
       "      <td>0</td>\n",
       "      <td>4</td>\n",
       "      <td>...</td>\n",
       "      <td>1968</td>\n",
       "      <td>0</td>\n",
       "      <td>122072</td>\n",
       "      <td>52.5075</td>\n",
       "      <td>-114.393</td>\n",
       "      <td>1540</td>\n",
       "      <td>7480</td>\n",
       "      <td>3</td>\n",
       "      <td>59</td>\n",
       "      <td>219200</td>\n",
       "    </tr>\n",
       "    <tr>\n",
       "      <th>14617</th>\n",
       "      <td>6762830618</td>\n",
       "      <td>42734</td>\n",
       "      <td>2</td>\n",
       "      <td>1.00</td>\n",
       "      <td>1070</td>\n",
       "      <td>6120</td>\n",
       "      <td>1.0</td>\n",
       "      <td>0</td>\n",
       "      <td>0</td>\n",
       "      <td>3</td>\n",
       "      <td>...</td>\n",
       "      <td>1962</td>\n",
       "      <td>0</td>\n",
       "      <td>122056</td>\n",
       "      <td>52.7289</td>\n",
       "      <td>-114.507</td>\n",
       "      <td>1130</td>\n",
       "      <td>6120</td>\n",
       "      <td>2</td>\n",
       "      <td>64</td>\n",
       "      <td>209000</td>\n",
       "    </tr>\n",
       "    <tr>\n",
       "      <th>14618</th>\n",
       "      <td>6762830709</td>\n",
       "      <td>42734</td>\n",
       "      <td>4</td>\n",
       "      <td>1.00</td>\n",
       "      <td>1030</td>\n",
       "      <td>6621</td>\n",
       "      <td>1.0</td>\n",
       "      <td>0</td>\n",
       "      <td>0</td>\n",
       "      <td>4</td>\n",
       "      <td>...</td>\n",
       "      <td>1955</td>\n",
       "      <td>0</td>\n",
       "      <td>122042</td>\n",
       "      <td>52.7157</td>\n",
       "      <td>-114.411</td>\n",
       "      <td>1420</td>\n",
       "      <td>6631</td>\n",
       "      <td>3</td>\n",
       "      <td>54</td>\n",
       "      <td>205000</td>\n",
       "    </tr>\n",
       "    <tr>\n",
       "      <th>14619</th>\n",
       "      <td>6762831463</td>\n",
       "      <td>42734</td>\n",
       "      <td>3</td>\n",
       "      <td>1.00</td>\n",
       "      <td>900</td>\n",
       "      <td>4770</td>\n",
       "      <td>1.0</td>\n",
       "      <td>0</td>\n",
       "      <td>0</td>\n",
       "      <td>3</td>\n",
       "      <td>...</td>\n",
       "      <td>1969</td>\n",
       "      <td>2009</td>\n",
       "      <td>122018</td>\n",
       "      <td>52.5338</td>\n",
       "      <td>-114.552</td>\n",
       "      <td>900</td>\n",
       "      <td>3480</td>\n",
       "      <td>2</td>\n",
       "      <td>55</td>\n",
       "      <td>146000</td>\n",
       "    </tr>\n",
       "  </tbody>\n",
       "</table>\n",
       "<p>14620 rows × 23 columns</p>\n",
       "</div>"
      ],
      "text/plain": [
       "               id   Date  number of bedrooms  number of bathrooms  \\\n",
       "0      6762810145  42491                   5                 2.50   \n",
       "1      6762810635  42491                   4                 2.50   \n",
       "2      6762810998  42491                   5                 2.75   \n",
       "3      6762812605  42491                   4                 2.50   \n",
       "4      6762812919  42491                   3                 2.00   \n",
       "...           ...    ...                 ...                  ...   \n",
       "14615  6762830250  42734                   2                 1.50   \n",
       "14616  6762830339  42734                   3                 2.00   \n",
       "14617  6762830618  42734                   2                 1.00   \n",
       "14618  6762830709  42734                   4                 1.00   \n",
       "14619  6762831463  42734                   3                 1.00   \n",
       "\n",
       "       living area  lot area  number of floors  waterfront present  \\\n",
       "0             3650      9050               2.0                   0   \n",
       "1             2920      4000               1.5                   0   \n",
       "2             2910      9480               1.5                   0   \n",
       "3             3310     42998               2.0                   0   \n",
       "4             2710      4500               1.5                   0   \n",
       "...            ...       ...               ...                 ...   \n",
       "14615         1556     20000               1.0                   0   \n",
       "14616         1680      7000               1.5                   0   \n",
       "14617         1070      6120               1.0                   0   \n",
       "14618         1030      6621               1.0                   0   \n",
       "14619          900      4770               1.0                   0   \n",
       "\n",
       "       number of views  condition of the house  ...  Built Year  \\\n",
       "0                    4                       5  ...        1921   \n",
       "1                    0                       5  ...        1909   \n",
       "2                    0                       3  ...        1939   \n",
       "3                    0                       3  ...        2001   \n",
       "4                    0                       4  ...        1929   \n",
       "...                ...                     ...  ...         ...   \n",
       "14615                0                       4  ...        1957   \n",
       "14616                0                       4  ...        1968   \n",
       "14617                0                       3  ...        1962   \n",
       "14618                0                       4  ...        1955   \n",
       "14619                0                       3  ...        1969   \n",
       "\n",
       "       Renovation Year  Postal Code  Lattitude  Longitude  living_area_renov  \\\n",
       "0                    0       122003    52.8645   -114.557               2880   \n",
       "1                    0       122004    52.8878   -114.470               2470   \n",
       "2                    0       122004    52.8852   -114.468               2940   \n",
       "3                    0       122005    52.9532   -114.321               3350   \n",
       "4                    0       122006    52.9047   -114.485               2060   \n",
       "...                ...          ...        ...        ...                ...   \n",
       "14615                0       122066    52.6191   -114.472               2250   \n",
       "14616                0       122072    52.5075   -114.393               1540   \n",
       "14617                0       122056    52.7289   -114.507               1130   \n",
       "14618                0       122042    52.7157   -114.411               1420   \n",
       "14619             2009       122018    52.5338   -114.552                900   \n",
       "\n",
       "       lot_area_renov  Number of schools nearby  Distance from the airport  \\\n",
       "0                5400                         2                         58   \n",
       "1                4000                         2                         51   \n",
       "2                6600                         1                         53   \n",
       "3               42847                         3                         76   \n",
       "4                4500                         1                         51   \n",
       "...               ...                       ...                        ...   \n",
       "14615           17286                         3                         76   \n",
       "14616            7480                         3                         59   \n",
       "14617            6120                         2                         64   \n",
       "14618            6631                         3                         54   \n",
       "14619            3480                         2                         55   \n",
       "\n",
       "         Price  \n",
       "0      2380000  \n",
       "1      1400000  \n",
       "2      1200000  \n",
       "3       838000  \n",
       "4       805000  \n",
       "...        ...  \n",
       "14615   221700  \n",
       "14616   219200  \n",
       "14617   209000  \n",
       "14618   205000  \n",
       "14619   146000  \n",
       "\n",
       "[14620 rows x 23 columns]"
      ]
     },
     "execution_count": 152,
     "metadata": {},
     "output_type": "execute_result"
    }
   ],
   "source": [
    "df"
   ]
  },
  {
   "cell_type": "code",
   "execution_count": 153,
   "id": "1e363d10",
   "metadata": {},
   "outputs": [],
   "source": [
    "def draw_missing(df):\n",
    "    total = df.isnull().sum().sort_values(ascending=False)\n",
    "    percent = (df.isnull().sum()/df.isnull().count()).sort_values(ascending=False)*100\n",
    "    missing_data = pd.concat([total, percent], axis=1, keys=['Total', 'Percent'])\n",
    "    return missing_data"
   ]
  },
  {
   "cell_type": "code",
   "execution_count": 154,
   "id": "3770b613",
   "metadata": {},
   "outputs": [
    {
     "data": {
      "text/html": [
       "<div>\n",
       "<style scoped>\n",
       "    .dataframe tbody tr th:only-of-type {\n",
       "        vertical-align: middle;\n",
       "    }\n",
       "\n",
       "    .dataframe tbody tr th {\n",
       "        vertical-align: top;\n",
       "    }\n",
       "\n",
       "    .dataframe thead th {\n",
       "        text-align: right;\n",
       "    }\n",
       "</style>\n",
       "<table border=\"1\" class=\"dataframe\">\n",
       "  <thead>\n",
       "    <tr style=\"text-align: right;\">\n",
       "      <th></th>\n",
       "      <th>Total</th>\n",
       "      <th>Percent</th>\n",
       "    </tr>\n",
       "  </thead>\n",
       "  <tbody>\n",
       "    <tr>\n",
       "      <th>id</th>\n",
       "      <td>0</td>\n",
       "      <td>0.0</td>\n",
       "    </tr>\n",
       "    <tr>\n",
       "      <th>Area of the basement</th>\n",
       "      <td>0</td>\n",
       "      <td>0.0</td>\n",
       "    </tr>\n",
       "    <tr>\n",
       "      <th>Distance from the airport</th>\n",
       "      <td>0</td>\n",
       "      <td>0.0</td>\n",
       "    </tr>\n",
       "    <tr>\n",
       "      <th>Number of schools nearby</th>\n",
       "      <td>0</td>\n",
       "      <td>0.0</td>\n",
       "    </tr>\n",
       "    <tr>\n",
       "      <th>lot_area_renov</th>\n",
       "      <td>0</td>\n",
       "      <td>0.0</td>\n",
       "    </tr>\n",
       "    <tr>\n",
       "      <th>living_area_renov</th>\n",
       "      <td>0</td>\n",
       "      <td>0.0</td>\n",
       "    </tr>\n",
       "    <tr>\n",
       "      <th>Longitude</th>\n",
       "      <td>0</td>\n",
       "      <td>0.0</td>\n",
       "    </tr>\n",
       "    <tr>\n",
       "      <th>Lattitude</th>\n",
       "      <td>0</td>\n",
       "      <td>0.0</td>\n",
       "    </tr>\n",
       "    <tr>\n",
       "      <th>Postal Code</th>\n",
       "      <td>0</td>\n",
       "      <td>0.0</td>\n",
       "    </tr>\n",
       "    <tr>\n",
       "      <th>Renovation Year</th>\n",
       "      <td>0</td>\n",
       "      <td>0.0</td>\n",
       "    </tr>\n",
       "    <tr>\n",
       "      <th>Built Year</th>\n",
       "      <td>0</td>\n",
       "      <td>0.0</td>\n",
       "    </tr>\n",
       "    <tr>\n",
       "      <th>Area of the house(excluding basement)</th>\n",
       "      <td>0</td>\n",
       "      <td>0.0</td>\n",
       "    </tr>\n",
       "    <tr>\n",
       "      <th>Date</th>\n",
       "      <td>0</td>\n",
       "      <td>0.0</td>\n",
       "    </tr>\n",
       "    <tr>\n",
       "      <th>grade of the house</th>\n",
       "      <td>0</td>\n",
       "      <td>0.0</td>\n",
       "    </tr>\n",
       "    <tr>\n",
       "      <th>condition of the house</th>\n",
       "      <td>0</td>\n",
       "      <td>0.0</td>\n",
       "    </tr>\n",
       "    <tr>\n",
       "      <th>number of views</th>\n",
       "      <td>0</td>\n",
       "      <td>0.0</td>\n",
       "    </tr>\n",
       "    <tr>\n",
       "      <th>waterfront present</th>\n",
       "      <td>0</td>\n",
       "      <td>0.0</td>\n",
       "    </tr>\n",
       "    <tr>\n",
       "      <th>number of floors</th>\n",
       "      <td>0</td>\n",
       "      <td>0.0</td>\n",
       "    </tr>\n",
       "    <tr>\n",
       "      <th>lot area</th>\n",
       "      <td>0</td>\n",
       "      <td>0.0</td>\n",
       "    </tr>\n",
       "    <tr>\n",
       "      <th>living area</th>\n",
       "      <td>0</td>\n",
       "      <td>0.0</td>\n",
       "    </tr>\n",
       "    <tr>\n",
       "      <th>number of bathrooms</th>\n",
       "      <td>0</td>\n",
       "      <td>0.0</td>\n",
       "    </tr>\n",
       "    <tr>\n",
       "      <th>number of bedrooms</th>\n",
       "      <td>0</td>\n",
       "      <td>0.0</td>\n",
       "    </tr>\n",
       "    <tr>\n",
       "      <th>Price</th>\n",
       "      <td>0</td>\n",
       "      <td>0.0</td>\n",
       "    </tr>\n",
       "  </tbody>\n",
       "</table>\n",
       "</div>"
      ],
      "text/plain": [
       "                                       Total  Percent\n",
       "id                                         0      0.0\n",
       "Area of the basement                       0      0.0\n",
       "Distance from the airport                  0      0.0\n",
       "Number of schools nearby                   0      0.0\n",
       "lot_area_renov                             0      0.0\n",
       "living_area_renov                          0      0.0\n",
       "Longitude                                  0      0.0\n",
       "Lattitude                                  0      0.0\n",
       "Postal Code                                0      0.0\n",
       "Renovation Year                            0      0.0\n",
       "Built Year                                 0      0.0\n",
       "Area of the house(excluding basement)      0      0.0\n",
       "Date                                       0      0.0\n",
       "grade of the house                         0      0.0\n",
       "condition of the house                     0      0.0\n",
       "number of views                            0      0.0\n",
       "waterfront present                         0      0.0\n",
       "number of floors                           0      0.0\n",
       "lot area                                   0      0.0\n",
       "living area                                0      0.0\n",
       "number of bathrooms                        0      0.0\n",
       "number of bedrooms                         0      0.0\n",
       "Price                                      0      0.0"
      ]
     },
     "execution_count": 154,
     "metadata": {},
     "output_type": "execute_result"
    }
   ],
   "source": [
    "draw_missing(df).round(1)"
   ]
  },
  {
   "cell_type": "code",
   "execution_count": 9,
   "id": "ad1edad2",
   "metadata": {},
   "outputs": [],
   "source": [
    "df=df.dropna()"
   ]
  },
  {
   "cell_type": "code",
   "execution_count": 10,
   "id": "622abd18",
   "metadata": {},
   "outputs": [
    {
     "data": {
      "text/html": [
       "<div>\n",
       "<style scoped>\n",
       "    .dataframe tbody tr th:only-of-type {\n",
       "        vertical-align: middle;\n",
       "    }\n",
       "\n",
       "    .dataframe tbody tr th {\n",
       "        vertical-align: top;\n",
       "    }\n",
       "\n",
       "    .dataframe thead th {\n",
       "        text-align: right;\n",
       "    }\n",
       "</style>\n",
       "<table border=\"1\" class=\"dataframe\">\n",
       "  <thead>\n",
       "    <tr style=\"text-align: right;\">\n",
       "      <th></th>\n",
       "      <th>Total</th>\n",
       "      <th>Percent</th>\n",
       "    </tr>\n",
       "  </thead>\n",
       "  <tbody>\n",
       "    <tr>\n",
       "      <th>id</th>\n",
       "      <td>0</td>\n",
       "      <td>0.0</td>\n",
       "    </tr>\n",
       "    <tr>\n",
       "      <th>huml</th>\n",
       "      <td>0</td>\n",
       "      <td>0.0</td>\n",
       "    </tr>\n",
       "    <tr>\n",
       "      <th>humw</th>\n",
       "      <td>0</td>\n",
       "      <td>0.0</td>\n",
       "    </tr>\n",
       "    <tr>\n",
       "      <th>ulnal</th>\n",
       "      <td>0</td>\n",
       "      <td>0.0</td>\n",
       "    </tr>\n",
       "    <tr>\n",
       "      <th>ulnaw</th>\n",
       "      <td>0</td>\n",
       "      <td>0.0</td>\n",
       "    </tr>\n",
       "    <tr>\n",
       "      <th>feml</th>\n",
       "      <td>0</td>\n",
       "      <td>0.0</td>\n",
       "    </tr>\n",
       "    <tr>\n",
       "      <th>femw</th>\n",
       "      <td>0</td>\n",
       "      <td>0.0</td>\n",
       "    </tr>\n",
       "    <tr>\n",
       "      <th>tibl</th>\n",
       "      <td>0</td>\n",
       "      <td>0.0</td>\n",
       "    </tr>\n",
       "    <tr>\n",
       "      <th>tibw</th>\n",
       "      <td>0</td>\n",
       "      <td>0.0</td>\n",
       "    </tr>\n",
       "    <tr>\n",
       "      <th>tarl</th>\n",
       "      <td>0</td>\n",
       "      <td>0.0</td>\n",
       "    </tr>\n",
       "    <tr>\n",
       "      <th>tarw</th>\n",
       "      <td>0</td>\n",
       "      <td>0.0</td>\n",
       "    </tr>\n",
       "    <tr>\n",
       "      <th>type</th>\n",
       "      <td>0</td>\n",
       "      <td>0.0</td>\n",
       "    </tr>\n",
       "  </tbody>\n",
       "</table>\n",
       "</div>"
      ],
      "text/plain": [
       "       Total  Percent\n",
       "id         0      0.0\n",
       "huml       0      0.0\n",
       "humw       0      0.0\n",
       "ulnal      0      0.0\n",
       "ulnaw      0      0.0\n",
       "feml       0      0.0\n",
       "femw       0      0.0\n",
       "tibl       0      0.0\n",
       "tibw       0      0.0\n",
       "tarl       0      0.0\n",
       "tarw       0      0.0\n",
       "type       0      0.0"
      ]
     },
     "execution_count": 10,
     "metadata": {},
     "output_type": "execute_result"
    }
   ],
   "source": [
    "draw_missing(df).round(1)"
   ]
  },
  {
   "cell_type": "code",
   "execution_count": 11,
   "id": "fbb47ce6",
   "metadata": {},
   "outputs": [
    {
     "data": {
      "text/plain": [
       "(413, 12)"
      ]
     },
     "execution_count": 11,
     "metadata": {},
     "output_type": "execute_result"
    }
   ],
   "source": [
    "df.shape"
   ]
  },
  {
   "cell_type": "markdown",
   "id": "2e8937f0",
   "metadata": {},
   "source": [
    "# Кодирование категориальных данных\n"
   ]
  },
  {
   "cell_type": "code",
   "execution_count": 12,
   "id": "1a01096d",
   "metadata": {},
   "outputs": [],
   "source": [
    "from sklearn.preprocessing import LabelEncoder"
   ]
  },
  {
   "cell_type": "code",
   "execution_count": 13,
   "id": "3cc9ebc0",
   "metadata": {},
   "outputs": [
    {
     "data": {
      "text/plain": [
       "array(['SW', 'W', 'T', 'R', 'P', 'SO'], dtype=object)"
      ]
     },
     "execution_count": 13,
     "metadata": {},
     "output_type": "execute_result"
    }
   ],
   "source": [
    "df['type'].unique()"
   ]
  },
  {
   "cell_type": "code",
   "execution_count": 20,
   "id": "8fcd4920",
   "metadata": {},
   "outputs": [
    {
     "name": "stderr",
     "output_type": "stream",
     "text": [
      "/var/folders/qd/8dmk5qvx6876bry7gnjq81xw0000gn/T/ipykernel_42322/1012653078.py:2: SettingWithCopyWarning: \n",
      "A value is trying to be set on a copy of a slice from a DataFrame.\n",
      "Try using .loc[row_indexer,col_indexer] = value instead\n",
      "\n",
      "See the caveats in the documentation: https://pandas.pydata.org/pandas-docs/stable/user_guide/indexing.html#returning-a-view-versus-a-copy\n",
      "  df['type'] = le.fit_transform(df['type'])\n"
     ]
    }
   ],
   "source": [
    "le = LabelEncoder()\n",
    "df['type'] = le.fit_transform(df['type'])"
   ]
  },
  {
   "cell_type": "code",
   "execution_count": 21,
   "id": "f41c926e",
   "metadata": {},
   "outputs": [
    {
     "data": {
      "text/plain": [
       "array(['P', 'R', 'SO', 'SW', 'T', 'W'], dtype=object)"
      ]
     },
     "execution_count": 21,
     "metadata": {},
     "output_type": "execute_result"
    }
   ],
   "source": [
    "le.classes_"
   ]
  },
  {
   "cell_type": "code",
   "execution_count": 22,
   "id": "bc5e3798",
   "metadata": {},
   "outputs": [
    {
     "data": {
      "text/plain": [
       "array([3, 3, 3, 3, 3, 3, 3, 3, 3, 3, 3, 3, 3, 3, 3, 3, 3, 3, 3, 3, 3, 3,\n",
       "       3, 3, 3, 3, 3, 3, 3, 3, 3, 3, 3, 3, 3, 3, 3, 3, 3, 3, 3, 3, 3, 3,\n",
       "       3, 3, 3, 3, 3, 3, 3, 3, 3, 3, 3, 3, 3, 3, 3, 3, 3, 3, 3, 3, 3, 3,\n",
       "       3, 3, 3, 3, 3, 3, 3, 3, 3, 3, 3, 3, 3, 3, 3, 3, 3, 3, 3, 3, 3, 3,\n",
       "       3, 3, 3, 3, 3, 3, 3, 3, 3, 3, 3, 3, 3, 3, 3, 3, 3, 3, 3, 3, 3, 3,\n",
       "       3, 3, 3, 3, 3, 3, 5, 5, 5, 5, 5, 5, 5, 5, 5, 5, 5, 5, 5, 5, 5, 5,\n",
       "       5, 5, 5, 5, 5, 5, 5, 5, 5, 5, 5, 5, 5, 5, 5, 5, 5, 5, 5, 5, 5, 5,\n",
       "       5, 5, 5, 5, 5, 5, 5, 5, 5, 5, 5, 5, 5, 5, 5, 5, 5, 5, 5, 5, 5, 5,\n",
       "       5, 5, 5, 5, 4, 4, 4, 4, 4, 4, 4, 4, 4, 4, 4, 4, 4, 4, 4, 4, 4, 4,\n",
       "       4, 4, 4, 4, 4, 1, 1, 1, 1, 1, 1, 1, 1, 1, 1, 1, 1, 1, 1, 1, 1, 1,\n",
       "       1, 1, 1, 1, 1, 1, 1, 1, 1, 1, 1, 1, 1, 1, 1, 1, 1, 1, 1, 1, 1, 1,\n",
       "       1, 1, 1, 1, 1, 1, 1, 1, 1, 0, 0, 0, 0, 0, 0, 0, 0, 0, 0, 0, 0, 0,\n",
       "       0, 0, 0, 0, 0, 0, 0, 0, 0, 0, 0, 0, 0, 0, 0, 0, 0, 0, 0, 0, 0, 0,\n",
       "       0, 0, 0, 2, 2, 2, 2, 2, 2, 2, 2, 2, 2, 2, 2, 2, 2, 2, 2, 2, 2, 2,\n",
       "       2, 2, 2, 2, 2, 2, 2, 2, 2, 2, 2, 2, 2, 2, 2, 2, 2, 2, 2, 2, 2, 2,\n",
       "       2, 2, 2, 2, 2, 2, 2, 2, 2, 2, 2, 2, 2, 2, 2, 2, 2, 2, 2, 2, 2, 2,\n",
       "       2, 2, 2, 2, 2, 2, 2, 2, 2, 2, 2, 2, 2, 2, 2, 2, 2, 2, 2, 2, 2, 2,\n",
       "       2, 2, 2, 2, 2, 2, 2, 2, 2, 2, 2, 2, 2, 2, 2, 2, 2, 2, 2, 2, 2, 2,\n",
       "       2, 2, 2, 2, 2, 2, 2, 2, 2, 2, 2, 2, 2, 2, 2, 2, 2])"
      ]
     },
     "execution_count": 22,
     "metadata": {},
     "output_type": "execute_result"
    }
   ],
   "source": [
    "cat_enc_le"
   ]
  },
  {
   "cell_type": "code",
   "execution_count": 23,
   "id": "df058495",
   "metadata": {},
   "outputs": [
    {
     "data": {
      "text/plain": [
       "array([0, 1, 2, 3, 4, 5])"
      ]
     },
     "execution_count": 23,
     "metadata": {},
     "output_type": "execute_result"
    }
   ],
   "source": [
    "np.unique(cat_enc_le)"
   ]
  },
  {
   "cell_type": "markdown",
   "id": "3b4e7c32",
   "metadata": {},
   "source": [
    "## Разделение данных"
   ]
  },
  {
   "cell_type": "markdown",
   "id": "18315b52",
   "metadata": {},
   "source": [
    "Разделим данные на столбец с целевым признаком и данные с другими столбцами:"
   ]
  },
  {
   "cell_type": "code",
   "execution_count": 29,
   "id": "9cbfc6fe",
   "metadata": {},
   "outputs": [],
   "source": [
    "X = df.drop(\"type\", axis=1)\n",
    "Y = df[\"type\"]"
   ]
  },
  {
   "cell_type": "code",
   "execution_count": 32,
   "id": "5cd6cc3b",
   "metadata": {},
   "outputs": [
    {
     "name": "stdout",
     "output_type": "stream",
     "text": [
      "   id   huml  humw  ulnal  ulnaw   feml  femw   tibl  tibw   tarl  tarw\n",
      "0   0  80.78  6.68  72.01   4.88  41.81  3.70   5.50  4.03  38.70  3.84\n",
      "1   1  88.91  6.63  80.53   5.59  47.04  4.30  80.22  4.51  41.50  4.01\n",
      "2   2  79.97  6.37  69.26   5.28  43.07  3.90  75.35  4.04  38.31  3.34\n",
      "3   3  77.65  5.70  65.76   4.77  40.04  3.52  69.17  3.40  35.78  3.41\n",
      "4   4  62.80  4.84  52.09   3.73  33.95  2.72  56.27  2.96  31.88  3.13 \n",
      "\n",
      "0    3\n",
      "1    3\n",
      "2    3\n",
      "3    3\n",
      "4    3\n",
      "Name: type, dtype: int64\n"
     ]
    }
   ],
   "source": [
    "print(X.head(), \"\\n\")\n",
    "print(Y.head())"
   ]
  },
  {
   "cell_type": "code",
   "execution_count": 34,
   "id": "7c96ebfa",
   "metadata": {},
   "outputs": [
    {
     "name": "stdout",
     "output_type": "stream",
     "text": [
      "(413, 11)\n",
      "(413,)\n"
     ]
    }
   ],
   "source": [
    "print(X.shape)\n",
    "print(Y.shape)"
   ]
  },
  {
   "cell_type": "markdown",
   "id": "4f2fc282",
   "metadata": {},
   "source": [
    "## Разделение выборки на обучающую и тестовую"
   ]
  },
  {
   "cell_type": "code",
   "execution_count": 35,
   "id": "69fca0e6",
   "metadata": {},
   "outputs": [],
   "source": [
    "from sklearn.model_selection import train_test_split"
   ]
  },
  {
   "cell_type": "code",
   "execution_count": 39,
   "id": "cc99a8d7",
   "metadata": {},
   "outputs": [],
   "source": [
    "X_train, X_test, y_train, y_test = train_test_split(X, Y,test_size=0.25, random_state=1)"
   ]
  },
  {
   "cell_type": "markdown",
   "id": "73efc7e7",
   "metadata": {},
   "source": [
    "размеры обучающей выборки"
   ]
  },
  {
   "cell_type": "code",
   "execution_count": 40,
   "id": "243fa4e7",
   "metadata": {},
   "outputs": [
    {
     "data": {
      "text/plain": [
       "((309, 11), (309,))"
      ]
     },
     "execution_count": 40,
     "metadata": {},
     "output_type": "execute_result"
    }
   ],
   "source": [
    "X_train.shape, y_train.shape"
   ]
  },
  {
   "cell_type": "markdown",
   "id": "978c5a24",
   "metadata": {},
   "source": [
    "размеры тестовой выборки"
   ]
  },
  {
   "cell_type": "code",
   "execution_count": 43,
   "id": "126c29b0",
   "metadata": {},
   "outputs": [
    {
     "data": {
      "text/plain": [
       "((104, 11), (104,))"
      ]
     },
     "execution_count": 43,
     "metadata": {},
     "output_type": "execute_result"
    }
   ],
   "source": [
    "X_test.shape, y_test.shape"
   ]
  },
  {
   "cell_type": "code",
   "execution_count": 52,
   "id": "a5382181",
   "metadata": {},
   "outputs": [],
   "source": [
    "def class_proportions(array: np.ndarray) -> Dict[int, Tuple[int, float]]:\n",
    "    \"\"\"\n",
    "    Вычисляет пропорции классов\n",
    "    array - массив, содержащий метки классов\n",
    "    \"\"\"\n",
    "    # Получение меток классов и количества меток каждого класса \n",
    "    labels, counts = np.unique(array, return_counts=True)\n",
    "    # Превращаем количество меток в процент их встречаемости\n",
    "    # делим количество меток каждого класса на общее количество меток\n",
    "    counts_perc = counts/array.size\n",
    "    # Теперь sum(counts_perc)==1.0\n",
    "    # Создаем результирующий словарь,\n",
    "    # ключом словаря явлется метка класса, \n",
    "    # а значением словаря процент встречаемости метки\n",
    "    res = dict()\n",
    "    for label, count2 in zip(labels, zip(counts, counts_perc)):\n",
    "        res[label] = count2\n",
    "    return res\n",
    "\n",
    "def print_class_proportions(array: np.ndarray):\n",
    "    \"\"\"\n",
    "    Вывод пропорций классов\n",
    "    \"\"\"\n",
    "    proportions = class_proportions(array)\n",
    "    if len(proportions)>0:\n",
    "        print('Метка \\t Количество \\t Процент встречаемости')\n",
    "    for i in proportions:\n",
    "        val, val_perc = proportions[i]\n",
    "        val_perc_100 = round(val_perc * 100, 2)\n",
    "        print('{} \\t {} \\t \\t {}%'.format(i, val, val_perc_100))"
   ]
  },
  {
   "cell_type": "code",
   "execution_count": 56,
   "id": "4665b23d",
   "metadata": {},
   "outputs": [
    {
     "name": "stdout",
     "output_type": "stream",
     "text": [
      "Метка \t Количество \t Процент встречаемости\n",
      "0 \t 28 \t \t 9.06%\n",
      "1 \t 34 \t \t 11.0%\n",
      "2 \t 91 \t \t 29.45%\n",
      "3 \t 87 \t \t 28.16%\n",
      "4 \t 15 \t \t 4.85%\n",
      "5 \t 54 \t \t 17.48%\n"
     ]
    }
   ],
   "source": [
    "print_class_proportions(y_train)"
   ]
  },
  {
   "cell_type": "code",
   "execution_count": 57,
   "id": "fc5547e2",
   "metadata": {},
   "outputs": [
    {
     "name": "stdout",
     "output_type": "stream",
     "text": [
      "Метка \t Количество \t Процент встречаемости\n",
      "0 \t 10 \t \t 9.62%\n",
      "1 \t 14 \t \t 13.46%\n",
      "2 \t 33 \t \t 31.73%\n",
      "3 \t 29 \t \t 27.88%\n",
      "4 \t 8 \t \t 7.69%\n",
      "5 \t 10 \t \t 9.62%\n"
     ]
    }
   ],
   "source": [
    "print_class_proportions(y_test)"
   ]
  },
  {
   "cell_type": "markdown",
   "id": "4f10f034",
   "metadata": {},
   "source": [
    "## Обучение модели с произвольным гиперпараметром"
   ]
  },
  {
   "cell_type": "code",
   "execution_count": 47,
   "id": "9d739b15",
   "metadata": {},
   "outputs": [],
   "source": [
    "from sklearn.neighbors import KNeighborsClassifier"
   ]
  },
  {
   "cell_type": "code",
   "execution_count": 68,
   "id": "db732e63",
   "metadata": {},
   "outputs": [
    {
     "name": "stderr",
     "output_type": "stream",
     "text": [
      "/Users/evgeniayurova/opt/anaconda3/lib/python3.9/site-packages/sklearn/neighbors/_classification.py:228: FutureWarning: Unlike other reduction functions (e.g. `skew`, `kurtosis`), the default behavior of `mode` typically preserves the axis it acts along. In SciPy 1.11.0, this behavior will change: the default value of `keepdims` will become False, the `axis` over which the statistic is taken will be eliminated, and the value None will no longer be accepted. Set `keepdims` to True or False to avoid this warning.\n",
      "  mode, _ = stats.mode(_y[neigh_ind, k], axis=1)\n"
     ]
    },
    {
     "data": {
      "text/plain": [
       "(104,\n",
       " array([1, 3, 3, 2, 4, 1, 1, 2, 5, 1, 0, 4, 1, 5, 2, 4, 2, 5, 1, 3, 2, 2,\n",
       "        3, 3, 3, 3, 5, 0, 2, 2, 3, 3, 5, 3, 2, 3, 3, 3, 4, 3, 2, 3, 1, 2,\n",
       "        2, 5, 3, 2, 2, 4, 0, 2, 2, 2, 2, 3, 2, 0, 2, 0, 3, 1, 1, 4, 1, 3,\n",
       "        3, 1, 0, 2, 3, 2, 2, 2, 1, 2, 2, 2, 1, 5, 2, 0, 3, 3, 5, 0, 2, 3,\n",
       "        0, 0, 2, 5, 3, 2, 3, 3, 3, 1, 1, 3, 0, 5, 2, 2]))"
      ]
     },
     "execution_count": 68,
     "metadata": {},
     "output_type": "execute_result"
    }
   ],
   "source": [
    "clf_i = KNeighborsClassifier(n_neighbors=10)\n",
    "clf_i.fit(X_train, y_train)\n",
    "target_i = clf_i.predict(X_test)\n",
    "len(target_i), target_i\n"
   ]
  },
  {
   "cell_type": "markdown",
   "id": "0baefd34",
   "metadata": {},
   "source": [
    "### Проверка качества"
   ]
  },
  {
   "cell_type": "code",
   "execution_count": 69,
   "id": "961d0094",
   "metadata": {},
   "outputs": [
    {
     "data": {
      "text/plain": [
       "0.9711538461538461"
      ]
     },
     "execution_count": 69,
     "metadata": {},
     "output_type": "execute_result"
    }
   ],
   "source": [
    "accuracy_score(y_test, target_i)"
   ]
  },
  {
   "cell_type": "code",
   "execution_count": 70,
   "id": "f42453b9",
   "metadata": {},
   "outputs": [],
   "source": [
    "def accuracy_score_for_classes(\n",
    "    y_true: np.ndarray, \n",
    "    y_pred: np.ndarray) -> Dict[int, float]:\n",
    "    \"\"\"\n",
    "    Вычисление метрики accuracy для каждого класса\n",
    "    y_true - истинные значения классов\n",
    "    y_pred - предсказанные значения классов\n",
    "    Возвращает словарь: ключ - метка класса, \n",
    "    значение - Accuracy для данного класса\n",
    "    \"\"\"\n",
    "    # Для удобства фильтрации сформируем Pandas DataFrame \n",
    "    d = {'t': y_true, 'p': y_pred}\n",
    "    df = pd.DataFrame(data=d)\n",
    "    # Метки классов\n",
    "    classes = np.unique(y_true)\n",
    "    # Результирующий словарь\n",
    "    res = dict()\n",
    "    # Перебор меток классов\n",
    "    for c in classes:\n",
    "        # отфильтруем данные, которые соответствуют \n",
    "        # текущей метке класса в истинных значениях\n",
    "        temp_data_flt = df[df['t']==c]\n",
    "        # расчет accuracy для заданной метки класса\n",
    "        temp_acc = accuracy_score(\n",
    "            temp_data_flt['t'].values, \n",
    "            temp_data_flt['p'].values)\n",
    "        # сохранение результата в словарь\n",
    "        res[c] = temp_acc\n",
    "    return res\n",
    "\n",
    "def print_accuracy_score_for_classes(\n",
    "    y_true: np.ndarray, \n",
    "    y_pred: np.ndarray):\n",
    "    \"\"\"\n",
    "    Вывод метрики accuracy для каждого класса\n",
    "    \"\"\"\n",
    "    accs = accuracy_score_for_classes(y_true, y_pred)\n",
    "    if len(accs)>0:\n",
    "        print('Метка \\t Accuracy')\n",
    "    for i in accs:\n",
    "        print('{} \\t {}'.format(i, accs[i]))"
   ]
  },
  {
   "cell_type": "code",
   "execution_count": 71,
   "id": "bf58e7f4",
   "metadata": {},
   "outputs": [
    {
     "name": "stdout",
     "output_type": "stream",
     "text": [
      "Метка \t Accuracy\n",
      "0 \t 1.0\n",
      "1 \t 0.9285714285714286\n",
      "2 \t 1.0\n",
      "3 \t 1.0\n",
      "4 \t 0.75\n",
      "5 \t 1.0\n"
     ]
    }
   ],
   "source": [
    "print_accuracy_score_for_classes(y_test, target_i)"
   ]
  },
  {
   "cell_type": "markdown",
   "id": "3386f323",
   "metadata": {},
   "source": [
    "##  Кросс-валидация"
   ]
  },
  {
   "cell_type": "code",
   "execution_count": 72,
   "id": "c79ca76d",
   "metadata": {},
   "outputs": [],
   "source": [
    "from sklearn.model_selection import cross_val_score, cross_validate"
   ]
  },
  {
   "cell_type": "code",
   "execution_count": 74,
   "id": "010347f2",
   "metadata": {},
   "outputs": [
    {
     "name": "stderr",
     "output_type": "stream",
     "text": [
      "/Users/evgeniayurova/opt/anaconda3/lib/python3.9/site-packages/sklearn/neighbors/_classification.py:228: FutureWarning: Unlike other reduction functions (e.g. `skew`, `kurtosis`), the default behavior of `mode` typically preserves the axis it acts along. In SciPy 1.11.0, this behavior will change: the default value of `keepdims` will become False, the `axis` over which the statistic is taken will be eliminated, and the value None will no longer be accepted. Set `keepdims` to True or False to avoid this warning.\n",
      "  mode, _ = stats.mode(_y[neigh_ind, k], axis=1)\n",
      "/Users/evgeniayurova/opt/anaconda3/lib/python3.9/site-packages/sklearn/neighbors/_classification.py:228: FutureWarning: Unlike other reduction functions (e.g. `skew`, `kurtosis`), the default behavior of `mode` typically preserves the axis it acts along. In SciPy 1.11.0, this behavior will change: the default value of `keepdims` will become False, the `axis` over which the statistic is taken will be eliminated, and the value None will no longer be accepted. Set `keepdims` to True or False to avoid this warning.\n",
      "  mode, _ = stats.mode(_y[neigh_ind, k], axis=1)\n",
      "/Users/evgeniayurova/opt/anaconda3/lib/python3.9/site-packages/sklearn/neighbors/_classification.py:228: FutureWarning: Unlike other reduction functions (e.g. `skew`, `kurtosis`), the default behavior of `mode` typically preserves the axis it acts along. In SciPy 1.11.0, this behavior will change: the default value of `keepdims` will become False, the `axis` over which the statistic is taken will be eliminated, and the value None will no longer be accepted. Set `keepdims` to True or False to avoid this warning.\n",
      "  mode, _ = stats.mode(_y[neigh_ind, k], axis=1)\n"
     ]
    },
    {
     "data": {
      "text/plain": [
       "array([0.74637681, 1.        , 0.77372263])"
      ]
     },
     "execution_count": 74,
     "metadata": {},
     "output_type": "execute_result"
    }
   ],
   "source": [
    "scores = cross_val_score(KNeighborsClassifier(n_neighbors=2), \n",
    "                         df, df.type, cv=3)\n",
    "scores"
   ]
  },
  {
   "cell_type": "code",
   "execution_count": 77,
   "id": "ad7b3363",
   "metadata": {},
   "outputs": [
    {
     "name": "stderr",
     "output_type": "stream",
     "text": [
      "/Users/evgeniayurova/opt/anaconda3/lib/python3.9/site-packages/sklearn/neighbors/_classification.py:228: FutureWarning: Unlike other reduction functions (e.g. `skew`, `kurtosis`), the default behavior of `mode` typically preserves the axis it acts along. In SciPy 1.11.0, this behavior will change: the default value of `keepdims` will become False, the `axis` over which the statistic is taken will be eliminated, and the value None will no longer be accepted. Set `keepdims` to True or False to avoid this warning.\n",
      "  mode, _ = stats.mode(_y[neigh_ind, k], axis=1)\n",
      "/Users/evgeniayurova/opt/anaconda3/lib/python3.9/site-packages/sklearn/neighbors/_classification.py:228: FutureWarning: Unlike other reduction functions (e.g. `skew`, `kurtosis`), the default behavior of `mode` typically preserves the axis it acts along. In SciPy 1.11.0, this behavior will change: the default value of `keepdims` will become False, the `axis` over which the statistic is taken will be eliminated, and the value None will no longer be accepted. Set `keepdims` to True or False to avoid this warning.\n",
      "  mode, _ = stats.mode(_y[neigh_ind, k], axis=1)\n",
      "/Users/evgeniayurova/opt/anaconda3/lib/python3.9/site-packages/sklearn/neighbors/_classification.py:228: FutureWarning: Unlike other reduction functions (e.g. `skew`, `kurtosis`), the default behavior of `mode` typically preserves the axis it acts along. In SciPy 1.11.0, this behavior will change: the default value of `keepdims` will become False, the `axis` over which the statistic is taken will be eliminated, and the value None will no longer be accepted. Set `keepdims` to True or False to avoid this warning.\n",
      "  mode, _ = stats.mode(_y[neigh_ind, k], axis=1)\n",
      "/Users/evgeniayurova/opt/anaconda3/lib/python3.9/site-packages/sklearn/neighbors/_classification.py:228: FutureWarning: Unlike other reduction functions (e.g. `skew`, `kurtosis`), the default behavior of `mode` typically preserves the axis it acts along. In SciPy 1.11.0, this behavior will change: the default value of `keepdims` will become False, the `axis` over which the statistic is taken will be eliminated, and the value None will no longer be accepted. Set `keepdims` to True or False to avoid this warning.\n",
      "  mode, _ = stats.mode(_y[neigh_ind, k], axis=1)\n",
      "/Users/evgeniayurova/opt/anaconda3/lib/python3.9/site-packages/sklearn/neighbors/_classification.py:228: FutureWarning: Unlike other reduction functions (e.g. `skew`, `kurtosis`), the default behavior of `mode` typically preserves the axis it acts along. In SciPy 1.11.0, this behavior will change: the default value of `keepdims` will become False, the `axis` over which the statistic is taken will be eliminated, and the value None will no longer be accepted. Set `keepdims` to True or False to avoid this warning.\n",
      "  mode, _ = stats.mode(_y[neigh_ind, k], axis=1)\n",
      "/Users/evgeniayurova/opt/anaconda3/lib/python3.9/site-packages/sklearn/neighbors/_classification.py:228: FutureWarning: Unlike other reduction functions (e.g. `skew`, `kurtosis`), the default behavior of `mode` typically preserves the axis it acts along. In SciPy 1.11.0, this behavior will change: the default value of `keepdims` will become False, the `axis` over which the statistic is taken will be eliminated, and the value None will no longer be accepted. Set `keepdims` to True or False to avoid this warning.\n",
      "  mode, _ = stats.mode(_y[neigh_ind, k], axis=1)\n"
     ]
    },
    {
     "data": {
      "text/plain": [
       "{'fit_time': array([0.00302482, 0.00175214, 0.00168204]),\n",
       " 'score_time': array([0.02887917, 0.01340103, 0.00827694]),\n",
       " 'test_score': array([0.75642843, 1.        , 0.78087539]),\n",
       " 'train_score': array([0.99632891, 0.99257773, 1.        ])}"
      ]
     },
     "execution_count": 77,
     "metadata": {},
     "output_type": "execute_result"
    }
   ],
   "source": [
    "scoring = {'precision': 'precision_weighted', \n",
    "           'recall': 'recall_weighted',\n",
    "           'f1': 'f1_weighted'}\n",
    "scores = cross_validate(KNeighborsClassifier(n_neighbors=2), \n",
    "                        df, df.type, scoring='f1_weighted', \n",
    "                        cv=3, return_train_score=True)\n",
    "scores"
   ]
  },
  {
   "cell_type": "markdown",
   "id": "81b12d74",
   "metadata": {},
   "source": [
    "### Стратегия K-Fold"
   ]
  },
  {
   "cell_type": "code",
   "execution_count": 78,
   "id": "0e199a02",
   "metadata": {},
   "outputs": [],
   "source": [
    "from sklearn.model_selection import KFold"
   ]
  },
  {
   "cell_type": "code",
   "execution_count": 81,
   "id": "0fc5ab9d",
   "metadata": {},
   "outputs": [
    {
     "name": "stderr",
     "output_type": "stream",
     "text": [
      "/Users/evgeniayurova/opt/anaconda3/lib/python3.9/site-packages/sklearn/neighbors/_classification.py:228: FutureWarning: Unlike other reduction functions (e.g. `skew`, `kurtosis`), the default behavior of `mode` typically preserves the axis it acts along. In SciPy 1.11.0, this behavior will change: the default value of `keepdims` will become False, the `axis` over which the statistic is taken will be eliminated, and the value None will no longer be accepted. Set `keepdims` to True or False to avoid this warning.\n",
      "  mode, _ = stats.mode(_y[neigh_ind, k], axis=1)\n",
      "/Users/evgeniayurova/opt/anaconda3/lib/python3.9/site-packages/sklearn/neighbors/_classification.py:228: FutureWarning: Unlike other reduction functions (e.g. `skew`, `kurtosis`), the default behavior of `mode` typically preserves the axis it acts along. In SciPy 1.11.0, this behavior will change: the default value of `keepdims` will become False, the `axis` over which the statistic is taken will be eliminated, and the value None will no longer be accepted. Set `keepdims` to True or False to avoid this warning.\n",
      "  mode, _ = stats.mode(_y[neigh_ind, k], axis=1)\n",
      "/Users/evgeniayurova/opt/anaconda3/lib/python3.9/site-packages/sklearn/neighbors/_classification.py:228: FutureWarning: Unlike other reduction functions (e.g. `skew`, `kurtosis`), the default behavior of `mode` typically preserves the axis it acts along. In SciPy 1.11.0, this behavior will change: the default value of `keepdims` will become False, the `axis` over which the statistic is taken will be eliminated, and the value None will no longer be accepted. Set `keepdims` to True or False to avoid this warning.\n",
      "  mode, _ = stats.mode(_y[neigh_ind, k], axis=1)\n",
      "/Users/evgeniayurova/opt/anaconda3/lib/python3.9/site-packages/sklearn/neighbors/_classification.py:228: FutureWarning: Unlike other reduction functions (e.g. `skew`, `kurtosis`), the default behavior of `mode` typically preserves the axis it acts along. In SciPy 1.11.0, this behavior will change: the default value of `keepdims` will become False, the `axis` over which the statistic is taken will be eliminated, and the value None will no longer be accepted. Set `keepdims` to True or False to avoid this warning.\n",
      "  mode, _ = stats.mode(_y[neigh_ind, k], axis=1)\n",
      "/Users/evgeniayurova/opt/anaconda3/lib/python3.9/site-packages/sklearn/neighbors/_classification.py:228: FutureWarning: Unlike other reduction functions (e.g. `skew`, `kurtosis`), the default behavior of `mode` typically preserves the axis it acts along. In SciPy 1.11.0, this behavior will change: the default value of `keepdims` will become False, the `axis` over which the statistic is taken will be eliminated, and the value None will no longer be accepted. Set `keepdims` to True or False to avoid this warning.\n",
      "  mode, _ = stats.mode(_y[neigh_ind, k], axis=1)\n"
     ]
    },
    {
     "data": {
      "text/plain": [
       "{'fit_time': array([0.02250409, 0.00307393, 0.00320935, 0.00794077, 0.00226498]),\n",
       " 'score_time': array([0.01750708, 0.01406193, 0.00542569, 0.00605226, 0.00897312]),\n",
       " 'test_score': array([0.9625    , 0.81544922, 0.17164186, 0.50232288, 1.        ])}"
      ]
     },
     "execution_count": 81,
     "metadata": {},
     "output_type": "execute_result"
    }
   ],
   "source": [
    "kf = KFold(n_splits=5)\n",
    "scores = cross_validate(KNeighborsClassifier(n_neighbors=2), \n",
    "                         df, df.type, scoring='f1_weighted', \n",
    "                         cv=kf)\n",
    "scores"
   ]
  },
  {
   "cell_type": "markdown",
   "id": "d34b9ac1",
   "metadata": {},
   "source": [
    "### Стратегия Repeated K-Fold"
   ]
  },
  {
   "cell_type": "code",
   "execution_count": 83,
   "id": "7799600a",
   "metadata": {},
   "outputs": [],
   "source": [
    "from sklearn.model_selection import RepeatedKFold"
   ]
  },
  {
   "cell_type": "code",
   "execution_count": 86,
   "id": "7634181b",
   "metadata": {},
   "outputs": [
    {
     "name": "stderr",
     "output_type": "stream",
     "text": [
      "/Users/evgeniayurova/opt/anaconda3/lib/python3.9/site-packages/sklearn/neighbors/_classification.py:228: FutureWarning: Unlike other reduction functions (e.g. `skew`, `kurtosis`), the default behavior of `mode` typically preserves the axis it acts along. In SciPy 1.11.0, this behavior will change: the default value of `keepdims` will become False, the `axis` over which the statistic is taken will be eliminated, and the value None will no longer be accepted. Set `keepdims` to True or False to avoid this warning.\n",
      "  mode, _ = stats.mode(_y[neigh_ind, k], axis=1)\n",
      "/Users/evgeniayurova/opt/anaconda3/lib/python3.9/site-packages/sklearn/neighbors/_classification.py:228: FutureWarning: Unlike other reduction functions (e.g. `skew`, `kurtosis`), the default behavior of `mode` typically preserves the axis it acts along. In SciPy 1.11.0, this behavior will change: the default value of `keepdims` will become False, the `axis` over which the statistic is taken will be eliminated, and the value None will no longer be accepted. Set `keepdims` to True or False to avoid this warning.\n",
      "  mode, _ = stats.mode(_y[neigh_ind, k], axis=1)\n",
      "/Users/evgeniayurova/opt/anaconda3/lib/python3.9/site-packages/sklearn/neighbors/_classification.py:228: FutureWarning: Unlike other reduction functions (e.g. `skew`, `kurtosis`), the default behavior of `mode` typically preserves the axis it acts along. In SciPy 1.11.0, this behavior will change: the default value of `keepdims` will become False, the `axis` over which the statistic is taken will be eliminated, and the value None will no longer be accepted. Set `keepdims` to True or False to avoid this warning.\n",
      "  mode, _ = stats.mode(_y[neigh_ind, k], axis=1)\n",
      "/Users/evgeniayurova/opt/anaconda3/lib/python3.9/site-packages/sklearn/neighbors/_classification.py:228: FutureWarning: Unlike other reduction functions (e.g. `skew`, `kurtosis`), the default behavior of `mode` typically preserves the axis it acts along. In SciPy 1.11.0, this behavior will change: the default value of `keepdims` will become False, the `axis` over which the statistic is taken will be eliminated, and the value None will no longer be accepted. Set `keepdims` to True or False to avoid this warning.\n",
      "  mode, _ = stats.mode(_y[neigh_ind, k], axis=1)\n",
      "/Users/evgeniayurova/opt/anaconda3/lib/python3.9/site-packages/sklearn/neighbors/_classification.py:228: FutureWarning: Unlike other reduction functions (e.g. `skew`, `kurtosis`), the default behavior of `mode` typically preserves the axis it acts along. In SciPy 1.11.0, this behavior will change: the default value of `keepdims` will become False, the `axis` over which the statistic is taken will be eliminated, and the value None will no longer be accepted. Set `keepdims` to True or False to avoid this warning.\n",
      "  mode, _ = stats.mode(_y[neigh_ind, k], axis=1)\n",
      "/Users/evgeniayurova/opt/anaconda3/lib/python3.9/site-packages/sklearn/neighbors/_classification.py:228: FutureWarning: Unlike other reduction functions (e.g. `skew`, `kurtosis`), the default behavior of `mode` typically preserves the axis it acts along. In SciPy 1.11.0, this behavior will change: the default value of `keepdims` will become False, the `axis` over which the statistic is taken will be eliminated, and the value None will no longer be accepted. Set `keepdims` to True or False to avoid this warning.\n",
      "  mode, _ = stats.mode(_y[neigh_ind, k], axis=1)\n"
     ]
    },
    {
     "data": {
      "text/plain": [
       "{'fit_time': array([0.00346899, 0.00254393, 0.00672007, 0.00177169, 0.0021019 ,\n",
       "        0.00366712]),\n",
       " 'score_time': array([0.01538992, 0.0101769 , 0.01073003, 0.0126431 , 0.01213598,\n",
       "        0.00862074]),\n",
       " 'test_score': array([0.97062351, 0.97050089, 0.97705165, 0.95711473, 0.9131922 ,\n",
       "        0.97143223])}"
      ]
     },
     "execution_count": 86,
     "metadata": {},
     "output_type": "execute_result"
    }
   ],
   "source": [
    "kf = RepeatedKFold(n_splits=3, n_repeats=2)\n",
    "scores = cross_validate(KNeighborsClassifier(n_neighbors=2), \n",
    "                         df, df.type, scoring='f1_weighted', \n",
    "                         cv=kf)\n",
    "scores"
   ]
  },
  {
   "cell_type": "markdown",
   "id": "c184a056",
   "metadata": {},
   "source": [
    "### Оптимизация гиперпараметров "
   ]
  },
  {
   "cell_type": "markdown",
   "id": "1339d3db",
   "metadata": {},
   "source": [
    "###   Через GridSearch"
   ]
  },
  {
   "cell_type": "code",
   "execution_count": 87,
   "id": "77d9b3e9",
   "metadata": {},
   "outputs": [],
   "source": [
    "from sklearn.model_selection import GridSearchCV"
   ]
  },
  {
   "cell_type": "code",
   "execution_count": 88,
   "id": "2383d2e0",
   "metadata": {},
   "outputs": [
    {
     "data": {
      "text/plain": [
       "[{'n_neighbors': array([ 5, 10, 15, 20, 25, 30, 35, 40, 45, 50])}]"
      ]
     },
     "execution_count": 88,
     "metadata": {},
     "output_type": "execute_result"
    }
   ],
   "source": [
    "n_range = np.array(range(5,55,5))\n",
    "tuned_parameters = [{'n_neighbors': n_range}]\n",
    "tuned_parameters"
   ]
  },
  {
   "cell_type": "code",
   "execution_count": 89,
   "id": "557e549c",
   "metadata": {},
   "outputs": [
    {
     "name": "stderr",
     "output_type": "stream",
     "text": [
      "/Users/evgeniayurova/opt/anaconda3/lib/python3.9/site-packages/sklearn/neighbors/_classification.py:228: FutureWarning: Unlike other reduction functions (e.g. `skew`, `kurtosis`), the default behavior of `mode` typically preserves the axis it acts along. In SciPy 1.11.0, this behavior will change: the default value of `keepdims` will become False, the `axis` over which the statistic is taken will be eliminated, and the value None will no longer be accepted. Set `keepdims` to True or False to avoid this warning.\n",
      "  mode, _ = stats.mode(_y[neigh_ind, k], axis=1)\n",
      "/Users/evgeniayurova/opt/anaconda3/lib/python3.9/site-packages/sklearn/neighbors/_classification.py:228: FutureWarning: Unlike other reduction functions (e.g. `skew`, `kurtosis`), the default behavior of `mode` typically preserves the axis it acts along. In SciPy 1.11.0, this behavior will change: the default value of `keepdims` will become False, the `axis` over which the statistic is taken will be eliminated, and the value None will no longer be accepted. Set `keepdims` to True or False to avoid this warning.\n",
      "  mode, _ = stats.mode(_y[neigh_ind, k], axis=1)\n",
      "/Users/evgeniayurova/opt/anaconda3/lib/python3.9/site-packages/sklearn/neighbors/_classification.py:228: FutureWarning: Unlike other reduction functions (e.g. `skew`, `kurtosis`), the default behavior of `mode` typically preserves the axis it acts along. In SciPy 1.11.0, this behavior will change: the default value of `keepdims` will become False, the `axis` over which the statistic is taken will be eliminated, and the value None will no longer be accepted. Set `keepdims` to True or False to avoid this warning.\n",
      "  mode, _ = stats.mode(_y[neigh_ind, k], axis=1)\n",
      "/Users/evgeniayurova/opt/anaconda3/lib/python3.9/site-packages/sklearn/neighbors/_classification.py:228: FutureWarning: Unlike other reduction functions (e.g. `skew`, `kurtosis`), the default behavior of `mode` typically preserves the axis it acts along. In SciPy 1.11.0, this behavior will change: the default value of `keepdims` will become False, the `axis` over which the statistic is taken will be eliminated, and the value None will no longer be accepted. Set `keepdims` to True or False to avoid this warning.\n",
      "  mode, _ = stats.mode(_y[neigh_ind, k], axis=1)\n",
      "/Users/evgeniayurova/opt/anaconda3/lib/python3.9/site-packages/sklearn/neighbors/_classification.py:228: FutureWarning: Unlike other reduction functions (e.g. `skew`, `kurtosis`), the default behavior of `mode` typically preserves the axis it acts along. In SciPy 1.11.0, this behavior will change: the default value of `keepdims` will become False, the `axis` over which the statistic is taken will be eliminated, and the value None will no longer be accepted. Set `keepdims` to True or False to avoid this warning.\n",
      "  mode, _ = stats.mode(_y[neigh_ind, k], axis=1)\n",
      "/Users/evgeniayurova/opt/anaconda3/lib/python3.9/site-packages/sklearn/neighbors/_classification.py:228: FutureWarning: Unlike other reduction functions (e.g. `skew`, `kurtosis`), the default behavior of `mode` typically preserves the axis it acts along. In SciPy 1.11.0, this behavior will change: the default value of `keepdims` will become False, the `axis` over which the statistic is taken will be eliminated, and the value None will no longer be accepted. Set `keepdims` to True or False to avoid this warning.\n",
      "  mode, _ = stats.mode(_y[neigh_ind, k], axis=1)\n",
      "/Users/evgeniayurova/opt/anaconda3/lib/python3.9/site-packages/sklearn/neighbors/_classification.py:228: FutureWarning: Unlike other reduction functions (e.g. `skew`, `kurtosis`), the default behavior of `mode` typically preserves the axis it acts along. In SciPy 1.11.0, this behavior will change: the default value of `keepdims` will become False, the `axis` over which the statistic is taken will be eliminated, and the value None will no longer be accepted. Set `keepdims` to True or False to avoid this warning.\n",
      "  mode, _ = stats.mode(_y[neigh_ind, k], axis=1)\n",
      "/Users/evgeniayurova/opt/anaconda3/lib/python3.9/site-packages/sklearn/neighbors/_classification.py:228: FutureWarning: Unlike other reduction functions (e.g. `skew`, `kurtosis`), the default behavior of `mode` typically preserves the axis it acts along. In SciPy 1.11.0, this behavior will change: the default value of `keepdims` will become False, the `axis` over which the statistic is taken will be eliminated, and the value None will no longer be accepted. Set `keepdims` to True or False to avoid this warning.\n",
      "  mode, _ = stats.mode(_y[neigh_ind, k], axis=1)\n",
      "/Users/evgeniayurova/opt/anaconda3/lib/python3.9/site-packages/sklearn/neighbors/_classification.py:228: FutureWarning: Unlike other reduction functions (e.g. `skew`, `kurtosis`), the default behavior of `mode` typically preserves the axis it acts along. In SciPy 1.11.0, this behavior will change: the default value of `keepdims` will become False, the `axis` over which the statistic is taken will be eliminated, and the value None will no longer be accepted. Set `keepdims` to True or False to avoid this warning.\n",
      "  mode, _ = stats.mode(_y[neigh_ind, k], axis=1)\n",
      "/Users/evgeniayurova/opt/anaconda3/lib/python3.9/site-packages/sklearn/neighbors/_classification.py:228: FutureWarning: Unlike other reduction functions (e.g. `skew`, `kurtosis`), the default behavior of `mode` typically preserves the axis it acts along. In SciPy 1.11.0, this behavior will change: the default value of `keepdims` will become False, the `axis` over which the statistic is taken will be eliminated, and the value None will no longer be accepted. Set `keepdims` to True or False to avoid this warning.\n",
      "  mode, _ = stats.mode(_y[neigh_ind, k], axis=1)\n",
      "/Users/evgeniayurova/opt/anaconda3/lib/python3.9/site-packages/sklearn/neighbors/_classification.py:228: FutureWarning: Unlike other reduction functions (e.g. `skew`, `kurtosis`), the default behavior of `mode` typically preserves the axis it acts along. In SciPy 1.11.0, this behavior will change: the default value of `keepdims` will become False, the `axis` over which the statistic is taken will be eliminated, and the value None will no longer be accepted. Set `keepdims` to True or False to avoid this warning.\n",
      "  mode, _ = stats.mode(_y[neigh_ind, k], axis=1)\n",
      "/Users/evgeniayurova/opt/anaconda3/lib/python3.9/site-packages/sklearn/neighbors/_classification.py:228: FutureWarning: Unlike other reduction functions (e.g. `skew`, `kurtosis`), the default behavior of `mode` typically preserves the axis it acts along. In SciPy 1.11.0, this behavior will change: the default value of `keepdims` will become False, the `axis` over which the statistic is taken will be eliminated, and the value None will no longer be accepted. Set `keepdims` to True or False to avoid this warning.\n",
      "  mode, _ = stats.mode(_y[neigh_ind, k], axis=1)\n",
      "/Users/evgeniayurova/opt/anaconda3/lib/python3.9/site-packages/sklearn/neighbors/_classification.py:228: FutureWarning: Unlike other reduction functions (e.g. `skew`, `kurtosis`), the default behavior of `mode` typically preserves the axis it acts along. In SciPy 1.11.0, this behavior will change: the default value of `keepdims` will become False, the `axis` over which the statistic is taken will be eliminated, and the value None will no longer be accepted. Set `keepdims` to True or False to avoid this warning.\n",
      "  mode, _ = stats.mode(_y[neigh_ind, k], axis=1)\n",
      "/Users/evgeniayurova/opt/anaconda3/lib/python3.9/site-packages/sklearn/neighbors/_classification.py:228: FutureWarning: Unlike other reduction functions (e.g. `skew`, `kurtosis`), the default behavior of `mode` typically preserves the axis it acts along. In SciPy 1.11.0, this behavior will change: the default value of `keepdims` will become False, the `axis` over which the statistic is taken will be eliminated, and the value None will no longer be accepted. Set `keepdims` to True or False to avoid this warning.\n",
      "  mode, _ = stats.mode(_y[neigh_ind, k], axis=1)\n",
      "/Users/evgeniayurova/opt/anaconda3/lib/python3.9/site-packages/sklearn/neighbors/_classification.py:228: FutureWarning: Unlike other reduction functions (e.g. `skew`, `kurtosis`), the default behavior of `mode` typically preserves the axis it acts along. In SciPy 1.11.0, this behavior will change: the default value of `keepdims` will become False, the `axis` over which the statistic is taken will be eliminated, and the value None will no longer be accepted. Set `keepdims` to True or False to avoid this warning.\n",
      "  mode, _ = stats.mode(_y[neigh_ind, k], axis=1)\n",
      "/Users/evgeniayurova/opt/anaconda3/lib/python3.9/site-packages/sklearn/neighbors/_classification.py:228: FutureWarning: Unlike other reduction functions (e.g. `skew`, `kurtosis`), the default behavior of `mode` typically preserves the axis it acts along. In SciPy 1.11.0, this behavior will change: the default value of `keepdims` will become False, the `axis` over which the statistic is taken will be eliminated, and the value None will no longer be accepted. Set `keepdims` to True or False to avoid this warning.\n",
      "  mode, _ = stats.mode(_y[neigh_ind, k], axis=1)\n",
      "/Users/evgeniayurova/opt/anaconda3/lib/python3.9/site-packages/sklearn/neighbors/_classification.py:228: FutureWarning: Unlike other reduction functions (e.g. `skew`, `kurtosis`), the default behavior of `mode` typically preserves the axis it acts along. In SciPy 1.11.0, this behavior will change: the default value of `keepdims` will become False, the `axis` over which the statistic is taken will be eliminated, and the value None will no longer be accepted. Set `keepdims` to True or False to avoid this warning.\n",
      "  mode, _ = stats.mode(_y[neigh_ind, k], axis=1)\n",
      "/Users/evgeniayurova/opt/anaconda3/lib/python3.9/site-packages/sklearn/neighbors/_classification.py:228: FutureWarning: Unlike other reduction functions (e.g. `skew`, `kurtosis`), the default behavior of `mode` typically preserves the axis it acts along. In SciPy 1.11.0, this behavior will change: the default value of `keepdims` will become False, the `axis` over which the statistic is taken will be eliminated, and the value None will no longer be accepted. Set `keepdims` to True or False to avoid this warning.\n",
      "  mode, _ = stats.mode(_y[neigh_ind, k], axis=1)\n",
      "/Users/evgeniayurova/opt/anaconda3/lib/python3.9/site-packages/sklearn/neighbors/_classification.py:228: FutureWarning: Unlike other reduction functions (e.g. `skew`, `kurtosis`), the default behavior of `mode` typically preserves the axis it acts along. In SciPy 1.11.0, this behavior will change: the default value of `keepdims` will become False, the `axis` over which the statistic is taken will be eliminated, and the value None will no longer be accepted. Set `keepdims` to True or False to avoid this warning.\n",
      "  mode, _ = stats.mode(_y[neigh_ind, k], axis=1)\n",
      "/Users/evgeniayurova/opt/anaconda3/lib/python3.9/site-packages/sklearn/neighbors/_classification.py:228: FutureWarning: Unlike other reduction functions (e.g. `skew`, `kurtosis`), the default behavior of `mode` typically preserves the axis it acts along. In SciPy 1.11.0, this behavior will change: the default value of `keepdims` will become False, the `axis` over which the statistic is taken will be eliminated, and the value None will no longer be accepted. Set `keepdims` to True or False to avoid this warning.\n",
      "  mode, _ = stats.mode(_y[neigh_ind, k], axis=1)\n",
      "/Users/evgeniayurova/opt/anaconda3/lib/python3.9/site-packages/sklearn/neighbors/_classification.py:228: FutureWarning: Unlike other reduction functions (e.g. `skew`, `kurtosis`), the default behavior of `mode` typically preserves the axis it acts along. In SciPy 1.11.0, this behavior will change: the default value of `keepdims` will become False, the `axis` over which the statistic is taken will be eliminated, and the value None will no longer be accepted. Set `keepdims` to True or False to avoid this warning.\n",
      "  mode, _ = stats.mode(_y[neigh_ind, k], axis=1)\n"
     ]
    },
    {
     "name": "stderr",
     "output_type": "stream",
     "text": [
      "/Users/evgeniayurova/opt/anaconda3/lib/python3.9/site-packages/sklearn/neighbors/_classification.py:228: FutureWarning: Unlike other reduction functions (e.g. `skew`, `kurtosis`), the default behavior of `mode` typically preserves the axis it acts along. In SciPy 1.11.0, this behavior will change: the default value of `keepdims` will become False, the `axis` over which the statistic is taken will be eliminated, and the value None will no longer be accepted. Set `keepdims` to True or False to avoid this warning.\n",
      "  mode, _ = stats.mode(_y[neigh_ind, k], axis=1)\n",
      "/Users/evgeniayurova/opt/anaconda3/lib/python3.9/site-packages/sklearn/neighbors/_classification.py:228: FutureWarning: Unlike other reduction functions (e.g. `skew`, `kurtosis`), the default behavior of `mode` typically preserves the axis it acts along. In SciPy 1.11.0, this behavior will change: the default value of `keepdims` will become False, the `axis` over which the statistic is taken will be eliminated, and the value None will no longer be accepted. Set `keepdims` to True or False to avoid this warning.\n",
      "  mode, _ = stats.mode(_y[neigh_ind, k], axis=1)\n",
      "/Users/evgeniayurova/opt/anaconda3/lib/python3.9/site-packages/sklearn/neighbors/_classification.py:228: FutureWarning: Unlike other reduction functions (e.g. `skew`, `kurtosis`), the default behavior of `mode` typically preserves the axis it acts along. In SciPy 1.11.0, this behavior will change: the default value of `keepdims` will become False, the `axis` over which the statistic is taken will be eliminated, and the value None will no longer be accepted. Set `keepdims` to True or False to avoid this warning.\n",
      "  mode, _ = stats.mode(_y[neigh_ind, k], axis=1)\n",
      "/Users/evgeniayurova/opt/anaconda3/lib/python3.9/site-packages/sklearn/neighbors/_classification.py:228: FutureWarning: Unlike other reduction functions (e.g. `skew`, `kurtosis`), the default behavior of `mode` typically preserves the axis it acts along. In SciPy 1.11.0, this behavior will change: the default value of `keepdims` will become False, the `axis` over which the statistic is taken will be eliminated, and the value None will no longer be accepted. Set `keepdims` to True or False to avoid this warning.\n",
      "  mode, _ = stats.mode(_y[neigh_ind, k], axis=1)\n",
      "/Users/evgeniayurova/opt/anaconda3/lib/python3.9/site-packages/sklearn/neighbors/_classification.py:228: FutureWarning: Unlike other reduction functions (e.g. `skew`, `kurtosis`), the default behavior of `mode` typically preserves the axis it acts along. In SciPy 1.11.0, this behavior will change: the default value of `keepdims` will become False, the `axis` over which the statistic is taken will be eliminated, and the value None will no longer be accepted. Set `keepdims` to True or False to avoid this warning.\n",
      "  mode, _ = stats.mode(_y[neigh_ind, k], axis=1)\n",
      "/Users/evgeniayurova/opt/anaconda3/lib/python3.9/site-packages/sklearn/neighbors/_classification.py:228: FutureWarning: Unlike other reduction functions (e.g. `skew`, `kurtosis`), the default behavior of `mode` typically preserves the axis it acts along. In SciPy 1.11.0, this behavior will change: the default value of `keepdims` will become False, the `axis` over which the statistic is taken will be eliminated, and the value None will no longer be accepted. Set `keepdims` to True or False to avoid this warning.\n",
      "  mode, _ = stats.mode(_y[neigh_ind, k], axis=1)\n",
      "/Users/evgeniayurova/opt/anaconda3/lib/python3.9/site-packages/sklearn/neighbors/_classification.py:228: FutureWarning: Unlike other reduction functions (e.g. `skew`, `kurtosis`), the default behavior of `mode` typically preserves the axis it acts along. In SciPy 1.11.0, this behavior will change: the default value of `keepdims` will become False, the `axis` over which the statistic is taken will be eliminated, and the value None will no longer be accepted. Set `keepdims` to True or False to avoid this warning.\n",
      "  mode, _ = stats.mode(_y[neigh_ind, k], axis=1)\n",
      "/Users/evgeniayurova/opt/anaconda3/lib/python3.9/site-packages/sklearn/neighbors/_classification.py:228: FutureWarning: Unlike other reduction functions (e.g. `skew`, `kurtosis`), the default behavior of `mode` typically preserves the axis it acts along. In SciPy 1.11.0, this behavior will change: the default value of `keepdims` will become False, the `axis` over which the statistic is taken will be eliminated, and the value None will no longer be accepted. Set `keepdims` to True or False to avoid this warning.\n",
      "  mode, _ = stats.mode(_y[neigh_ind, k], axis=1)\n",
      "/Users/evgeniayurova/opt/anaconda3/lib/python3.9/site-packages/sklearn/neighbors/_classification.py:228: FutureWarning: Unlike other reduction functions (e.g. `skew`, `kurtosis`), the default behavior of `mode` typically preserves the axis it acts along. In SciPy 1.11.0, this behavior will change: the default value of `keepdims` will become False, the `axis` over which the statistic is taken will be eliminated, and the value None will no longer be accepted. Set `keepdims` to True or False to avoid this warning.\n",
      "  mode, _ = stats.mode(_y[neigh_ind, k], axis=1)\n",
      "/Users/evgeniayurova/opt/anaconda3/lib/python3.9/site-packages/sklearn/neighbors/_classification.py:228: FutureWarning: Unlike other reduction functions (e.g. `skew`, `kurtosis`), the default behavior of `mode` typically preserves the axis it acts along. In SciPy 1.11.0, this behavior will change: the default value of `keepdims` will become False, the `axis` over which the statistic is taken will be eliminated, and the value None will no longer be accepted. Set `keepdims` to True or False to avoid this warning.\n",
      "  mode, _ = stats.mode(_y[neigh_ind, k], axis=1)\n",
      "/Users/evgeniayurova/opt/anaconda3/lib/python3.9/site-packages/sklearn/neighbors/_classification.py:228: FutureWarning: Unlike other reduction functions (e.g. `skew`, `kurtosis`), the default behavior of `mode` typically preserves the axis it acts along. In SciPy 1.11.0, this behavior will change: the default value of `keepdims` will become False, the `axis` over which the statistic is taken will be eliminated, and the value None will no longer be accepted. Set `keepdims` to True or False to avoid this warning.\n",
      "  mode, _ = stats.mode(_y[neigh_ind, k], axis=1)\n",
      "/Users/evgeniayurova/opt/anaconda3/lib/python3.9/site-packages/sklearn/neighbors/_classification.py:228: FutureWarning: Unlike other reduction functions (e.g. `skew`, `kurtosis`), the default behavior of `mode` typically preserves the axis it acts along. In SciPy 1.11.0, this behavior will change: the default value of `keepdims` will become False, the `axis` over which the statistic is taken will be eliminated, and the value None will no longer be accepted. Set `keepdims` to True or False to avoid this warning.\n",
      "  mode, _ = stats.mode(_y[neigh_ind, k], axis=1)\n",
      "/Users/evgeniayurova/opt/anaconda3/lib/python3.9/site-packages/sklearn/neighbors/_classification.py:228: FutureWarning: Unlike other reduction functions (e.g. `skew`, `kurtosis`), the default behavior of `mode` typically preserves the axis it acts along. In SciPy 1.11.0, this behavior will change: the default value of `keepdims` will become False, the `axis` over which the statistic is taken will be eliminated, and the value None will no longer be accepted. Set `keepdims` to True or False to avoid this warning.\n",
      "  mode, _ = stats.mode(_y[neigh_ind, k], axis=1)\n",
      "/Users/evgeniayurova/opt/anaconda3/lib/python3.9/site-packages/sklearn/neighbors/_classification.py:228: FutureWarning: Unlike other reduction functions (e.g. `skew`, `kurtosis`), the default behavior of `mode` typically preserves the axis it acts along. In SciPy 1.11.0, this behavior will change: the default value of `keepdims` will become False, the `axis` over which the statistic is taken will be eliminated, and the value None will no longer be accepted. Set `keepdims` to True or False to avoid this warning.\n",
      "  mode, _ = stats.mode(_y[neigh_ind, k], axis=1)\n",
      "/Users/evgeniayurova/opt/anaconda3/lib/python3.9/site-packages/sklearn/neighbors/_classification.py:228: FutureWarning: Unlike other reduction functions (e.g. `skew`, `kurtosis`), the default behavior of `mode` typically preserves the axis it acts along. In SciPy 1.11.0, this behavior will change: the default value of `keepdims` will become False, the `axis` over which the statistic is taken will be eliminated, and the value None will no longer be accepted. Set `keepdims` to True or False to avoid this warning.\n",
      "  mode, _ = stats.mode(_y[neigh_ind, k], axis=1)\n",
      "/Users/evgeniayurova/opt/anaconda3/lib/python3.9/site-packages/sklearn/neighbors/_classification.py:228: FutureWarning: Unlike other reduction functions (e.g. `skew`, `kurtosis`), the default behavior of `mode` typically preserves the axis it acts along. In SciPy 1.11.0, this behavior will change: the default value of `keepdims` will become False, the `axis` over which the statistic is taken will be eliminated, and the value None will no longer be accepted. Set `keepdims` to True or False to avoid this warning.\n",
      "  mode, _ = stats.mode(_y[neigh_ind, k], axis=1)\n",
      "/Users/evgeniayurova/opt/anaconda3/lib/python3.9/site-packages/sklearn/neighbors/_classification.py:228: FutureWarning: Unlike other reduction functions (e.g. `skew`, `kurtosis`), the default behavior of `mode` typically preserves the axis it acts along. In SciPy 1.11.0, this behavior will change: the default value of `keepdims` will become False, the `axis` over which the statistic is taken will be eliminated, and the value None will no longer be accepted. Set `keepdims` to True or False to avoid this warning.\n",
      "  mode, _ = stats.mode(_y[neigh_ind, k], axis=1)\n",
      "/Users/evgeniayurova/opt/anaconda3/lib/python3.9/site-packages/sklearn/neighbors/_classification.py:228: FutureWarning: Unlike other reduction functions (e.g. `skew`, `kurtosis`), the default behavior of `mode` typically preserves the axis it acts along. In SciPy 1.11.0, this behavior will change: the default value of `keepdims` will become False, the `axis` over which the statistic is taken will be eliminated, and the value None will no longer be accepted. Set `keepdims` to True or False to avoid this warning.\n",
      "  mode, _ = stats.mode(_y[neigh_ind, k], axis=1)\n",
      "/Users/evgeniayurova/opt/anaconda3/lib/python3.9/site-packages/sklearn/neighbors/_classification.py:228: FutureWarning: Unlike other reduction functions (e.g. `skew`, `kurtosis`), the default behavior of `mode` typically preserves the axis it acts along. In SciPy 1.11.0, this behavior will change: the default value of `keepdims` will become False, the `axis` over which the statistic is taken will be eliminated, and the value None will no longer be accepted. Set `keepdims` to True or False to avoid this warning.\n",
      "  mode, _ = stats.mode(_y[neigh_ind, k], axis=1)\n",
      "/Users/evgeniayurova/opt/anaconda3/lib/python3.9/site-packages/sklearn/neighbors/_classification.py:228: FutureWarning: Unlike other reduction functions (e.g. `skew`, `kurtosis`), the default behavior of `mode` typically preserves the axis it acts along. In SciPy 1.11.0, this behavior will change: the default value of `keepdims` will become False, the `axis` over which the statistic is taken will be eliminated, and the value None will no longer be accepted. Set `keepdims` to True or False to avoid this warning.\n",
      "  mode, _ = stats.mode(_y[neigh_ind, k], axis=1)\n"
     ]
    },
    {
     "name": "stdout",
     "output_type": "stream",
     "text": [
      "CPU times: user 363 ms, sys: 23.5 ms, total: 387 ms\n",
      "Wall time: 537 ms\n"
     ]
    },
    {
     "name": "stderr",
     "output_type": "stream",
     "text": [
      "/Users/evgeniayurova/opt/anaconda3/lib/python3.9/site-packages/sklearn/neighbors/_classification.py:228: FutureWarning: Unlike other reduction functions (e.g. `skew`, `kurtosis`), the default behavior of `mode` typically preserves the axis it acts along. In SciPy 1.11.0, this behavior will change: the default value of `keepdims` will become False, the `axis` over which the statistic is taken will be eliminated, and the value None will no longer be accepted. Set `keepdims` to True or False to avoid this warning.\n",
      "  mode, _ = stats.mode(_y[neigh_ind, k], axis=1)\n",
      "/Users/evgeniayurova/opt/anaconda3/lib/python3.9/site-packages/sklearn/neighbors/_classification.py:228: FutureWarning: Unlike other reduction functions (e.g. `skew`, `kurtosis`), the default behavior of `mode` typically preserves the axis it acts along. In SciPy 1.11.0, this behavior will change: the default value of `keepdims` will become False, the `axis` over which the statistic is taken will be eliminated, and the value None will no longer be accepted. Set `keepdims` to True or False to avoid this warning.\n",
      "  mode, _ = stats.mode(_y[neigh_ind, k], axis=1)\n",
      "/Users/evgeniayurova/opt/anaconda3/lib/python3.9/site-packages/sklearn/neighbors/_classification.py:228: FutureWarning: Unlike other reduction functions (e.g. `skew`, `kurtosis`), the default behavior of `mode` typically preserves the axis it acts along. In SciPy 1.11.0, this behavior will change: the default value of `keepdims` will become False, the `axis` over which the statistic is taken will be eliminated, and the value None will no longer be accepted. Set `keepdims` to True or False to avoid this warning.\n",
      "  mode, _ = stats.mode(_y[neigh_ind, k], axis=1)\n",
      "/Users/evgeniayurova/opt/anaconda3/lib/python3.9/site-packages/sklearn/neighbors/_classification.py:228: FutureWarning: Unlike other reduction functions (e.g. `skew`, `kurtosis`), the default behavior of `mode` typically preserves the axis it acts along. In SciPy 1.11.0, this behavior will change: the default value of `keepdims` will become False, the `axis` over which the statistic is taken will be eliminated, and the value None will no longer be accepted. Set `keepdims` to True or False to avoid this warning.\n",
      "  mode, _ = stats.mode(_y[neigh_ind, k], axis=1)\n",
      "/Users/evgeniayurova/opt/anaconda3/lib/python3.9/site-packages/sklearn/neighbors/_classification.py:228: FutureWarning: Unlike other reduction functions (e.g. `skew`, `kurtosis`), the default behavior of `mode` typically preserves the axis it acts along. In SciPy 1.11.0, this behavior will change: the default value of `keepdims` will become False, the `axis` over which the statistic is taken will be eliminated, and the value None will no longer be accepted. Set `keepdims` to True or False to avoid this warning.\n",
      "  mode, _ = stats.mode(_y[neigh_ind, k], axis=1)\n",
      "/Users/evgeniayurova/opt/anaconda3/lib/python3.9/site-packages/sklearn/neighbors/_classification.py:228: FutureWarning: Unlike other reduction functions (e.g. `skew`, `kurtosis`), the default behavior of `mode` typically preserves the axis it acts along. In SciPy 1.11.0, this behavior will change: the default value of `keepdims` will become False, the `axis` over which the statistic is taken will be eliminated, and the value None will no longer be accepted. Set `keepdims` to True or False to avoid this warning.\n",
      "  mode, _ = stats.mode(_y[neigh_ind, k], axis=1)\n",
      "/Users/evgeniayurova/opt/anaconda3/lib/python3.9/site-packages/sklearn/neighbors/_classification.py:228: FutureWarning: Unlike other reduction functions (e.g. `skew`, `kurtosis`), the default behavior of `mode` typically preserves the axis it acts along. In SciPy 1.11.0, this behavior will change: the default value of `keepdims` will become False, the `axis` over which the statistic is taken will be eliminated, and the value None will no longer be accepted. Set `keepdims` to True or False to avoid this warning.\n",
      "  mode, _ = stats.mode(_y[neigh_ind, k], axis=1)\n",
      "/Users/evgeniayurova/opt/anaconda3/lib/python3.9/site-packages/sklearn/neighbors/_classification.py:228: FutureWarning: Unlike other reduction functions (e.g. `skew`, `kurtosis`), the default behavior of `mode` typically preserves the axis it acts along. In SciPy 1.11.0, this behavior will change: the default value of `keepdims` will become False, the `axis` over which the statistic is taken will be eliminated, and the value None will no longer be accepted. Set `keepdims` to True or False to avoid this warning.\n",
      "  mode, _ = stats.mode(_y[neigh_ind, k], axis=1)\n",
      "/Users/evgeniayurova/opt/anaconda3/lib/python3.9/site-packages/sklearn/neighbors/_classification.py:228: FutureWarning: Unlike other reduction functions (e.g. `skew`, `kurtosis`), the default behavior of `mode` typically preserves the axis it acts along. In SciPy 1.11.0, this behavior will change: the default value of `keepdims` will become False, the `axis` over which the statistic is taken will be eliminated, and the value None will no longer be accepted. Set `keepdims` to True or False to avoid this warning.\n",
      "  mode, _ = stats.mode(_y[neigh_ind, k], axis=1)\n"
     ]
    },
    {
     "data": {
      "text/plain": [
       "GridSearchCV(cv=5, estimator=KNeighborsClassifier(),\n",
       "             param_grid=[{'n_neighbors': array([ 5, 10, 15, 20, 25, 30, 35, 40, 45, 50])}],\n",
       "             scoring='accuracy')"
      ]
     },
     "execution_count": 89,
     "metadata": {},
     "output_type": "execute_result"
    }
   ],
   "source": [
    "%%time\n",
    "clf_gs = GridSearchCV(KNeighborsClassifier(), tuned_parameters, cv=5, scoring='accuracy')\n",
    "clf_gs.fit(X_train, y_train)\n"
   ]
  },
  {
   "cell_type": "code",
   "execution_count": 90,
   "id": "c634dccd",
   "metadata": {},
   "outputs": [
    {
     "data": {
      "text/plain": [
       "{'mean_fit_time': array([0.00437531, 0.00419049, 0.00329638, 0.00241137, 0.00203876,\n",
       "        0.00372977, 0.00182033, 0.00195627, 0.00296268, 0.00210099]),\n",
       " 'std_fit_time': array([0.00289518, 0.00193286, 0.00221025, 0.00093191, 0.00053519,\n",
       "        0.00108139, 0.00019561, 0.00014535, 0.00137854, 0.00037602]),\n",
       " 'mean_score_time': array([0.00754776, 0.00712404, 0.00489993, 0.00557323, 0.00639648,\n",
       "        0.01051455, 0.00477877, 0.00659657, 0.00780196, 0.00564227]),\n",
       " 'std_score_time': array([0.00170326, 0.00278639, 0.00149243, 0.00101806, 0.00186334,\n",
       "        0.01194866, 0.00142477, 0.00162863, 0.00310024, 0.0017087 ]),\n",
       " 'param_n_neighbors': masked_array(data=[5, 10, 15, 20, 25, 30, 35, 40, 45, 50],\n",
       "              mask=[False, False, False, False, False, False, False, False,\n",
       "                    False, False],\n",
       "        fill_value='?',\n",
       "             dtype=object),\n",
       " 'params': [{'n_neighbors': 5},\n",
       "  {'n_neighbors': 10},\n",
       "  {'n_neighbors': 15},\n",
       "  {'n_neighbors': 20},\n",
       "  {'n_neighbors': 25},\n",
       "  {'n_neighbors': 30},\n",
       "  {'n_neighbors': 35},\n",
       "  {'n_neighbors': 40},\n",
       "  {'n_neighbors': 45},\n",
       "  {'n_neighbors': 50}],\n",
       " 'split0_test_score': array([0.88709677, 0.88709677, 0.91935484, 0.93548387, 0.88709677,\n",
       "        0.87096774, 0.87096774, 0.90322581, 0.87096774, 0.85483871]),\n",
       " 'split1_test_score': array([0.98387097, 0.98387097, 0.98387097, 0.96774194, 0.93548387,\n",
       "        0.90322581, 0.91935484, 0.90322581, 0.87096774, 0.88709677]),\n",
       " 'split2_test_score': array([0.9516129 , 0.93548387, 0.91935484, 0.90322581, 0.91935484,\n",
       "        0.90322581, 0.88709677, 0.90322581, 0.80645161, 0.80645161]),\n",
       " 'split3_test_score': array([0.96774194, 0.93548387, 0.9516129 , 0.91935484, 0.93548387,\n",
       "        0.90322581, 0.88709677, 0.87096774, 0.75806452, 0.79032258]),\n",
       " 'split4_test_score': array([0.96721311, 0.95081967, 0.93442623, 0.8852459 , 0.91803279,\n",
       "        0.95081967, 0.91803279, 0.95081967, 0.90163934, 0.8852459 ]),\n",
       " 'mean_test_score': array([0.95150714, 0.93855103, 0.94172396, 0.92221047, 0.91909043,\n",
       "        0.90629297, 0.89650978, 0.90629297, 0.84161819, 0.84479112]),\n",
       " 'std_test_score': array([0.03378275, 0.03121145, 0.02419989, 0.02822853, 0.01767638,\n",
       "        0.02552928, 0.0190512 , 0.02552928, 0.05204467, 0.03991003]),\n",
       " 'rank_test_score': array([ 1,  3,  2,  4,  5,  6,  8,  6, 10,  9], dtype=int32)}"
      ]
     },
     "execution_count": 90,
     "metadata": {},
     "output_type": "execute_result"
    }
   ],
   "source": [
    "clf_gs.cv_results_"
   ]
  },
  {
   "cell_type": "markdown",
   "id": "76a1f26c",
   "metadata": {},
   "source": [
    " Лучшая модель"
   ]
  },
  {
   "cell_type": "code",
   "execution_count": 91,
   "id": "e54d22d8",
   "metadata": {},
   "outputs": [
    {
     "data": {
      "text/plain": [
       "KNeighborsClassifier()"
      ]
     },
     "execution_count": 91,
     "metadata": {},
     "output_type": "execute_result"
    }
   ],
   "source": [
    "clf_gs.best_estimator_"
   ]
  },
  {
   "cell_type": "markdown",
   "id": "56ac480e",
   "metadata": {},
   "source": [
    "Лучшее значение метрики:"
   ]
  },
  {
   "cell_type": "code",
   "execution_count": 92,
   "id": "231371b3",
   "metadata": {},
   "outputs": [
    {
     "data": {
      "text/plain": [
       "0.951507139079852"
      ]
     },
     "execution_count": 92,
     "metadata": {},
     "output_type": "execute_result"
    }
   ],
   "source": [
    "clf_gs.best_score_"
   ]
  },
  {
   "cell_type": "markdown",
   "id": "54373b65",
   "metadata": {},
   "source": [
    "Лучшее значение параметров:"
   ]
  },
  {
   "cell_type": "code",
   "execution_count": 93,
   "id": "ade25e3d",
   "metadata": {},
   "outputs": [
    {
     "data": {
      "text/plain": [
       "{'n_neighbors': 5}"
      ]
     },
     "execution_count": 93,
     "metadata": {},
     "output_type": "execute_result"
    }
   ],
   "source": [
    "clf_gs.best_params_"
   ]
  },
  {
   "cell_type": "markdown",
   "id": "2379d24a",
   "metadata": {},
   "source": [
    "Изменение качества на тестовой выборке в зависимости от К-соседей:"
   ]
  },
  {
   "cell_type": "code",
   "execution_count": 94,
   "id": "bb5b8987",
   "metadata": {},
   "outputs": [
    {
     "data": {
      "text/plain": [
       "[<matplotlib.lines.Line2D at 0x7f8454affb50>]"
      ]
     },
     "execution_count": 94,
     "metadata": {},
     "output_type": "execute_result"
    },
    {
     "data": {
      "image/png": "[encoded data removed]",
      "text/plain": [
       "<Figure size 640x480 with 1 Axes>"
      ]
     },
     "metadata": {},
     "output_type": "display_data"
    }
   ],
   "source": [
    "plt.plot(n_range, clf_gs.cv_results_['mean_test_score'])"
   ]
  },
  {
   "cell_type": "markdown",
   "id": "6f715c44",
   "metadata": {},
   "source": [
    "### Через RandomizedSearch"
   ]
  },
  {
   "cell_type": "code",
   "execution_count": 95,
   "id": "9a906287",
   "metadata": {},
   "outputs": [],
   "source": [
    "from sklearn.model_selection import RandomizedSearchCV"
   ]
  },
  {
   "cell_type": "code",
   "execution_count": 96,
   "id": "2cd865b8",
   "metadata": {},
   "outputs": [
    {
     "name": "stderr",
     "output_type": "stream",
     "text": [
      "/Users/evgeniayurova/opt/anaconda3/lib/python3.9/site-packages/sklearn/neighbors/_classification.py:228: FutureWarning: Unlike other reduction functions (e.g. `skew`, `kurtosis`), the default behavior of `mode` typically preserves the axis it acts along. In SciPy 1.11.0, this behavior will change: the default value of `keepdims` will become False, the `axis` over which the statistic is taken will be eliminated, and the value None will no longer be accepted. Set `keepdims` to True or False to avoid this warning.\n",
      "  mode, _ = stats.mode(_y[neigh_ind, k], axis=1)\n",
      "/Users/evgeniayurova/opt/anaconda3/lib/python3.9/site-packages/sklearn/neighbors/_classification.py:228: FutureWarning: Unlike other reduction functions (e.g. `skew`, `kurtosis`), the default behavior of `mode` typically preserves the axis it acts along. In SciPy 1.11.0, this behavior will change: the default value of `keepdims` will become False, the `axis` over which the statistic is taken will be eliminated, and the value None will no longer be accepted. Set `keepdims` to True or False to avoid this warning.\n",
      "  mode, _ = stats.mode(_y[neigh_ind, k], axis=1)\n",
      "/Users/evgeniayurova/opt/anaconda3/lib/python3.9/site-packages/sklearn/neighbors/_classification.py:228: FutureWarning: Unlike other reduction functions (e.g. `skew`, `kurtosis`), the default behavior of `mode` typically preserves the axis it acts along. In SciPy 1.11.0, this behavior will change: the default value of `keepdims` will become False, the `axis` over which the statistic is taken will be eliminated, and the value None will no longer be accepted. Set `keepdims` to True or False to avoid this warning.\n",
      "  mode, _ = stats.mode(_y[neigh_ind, k], axis=1)\n",
      "/Users/evgeniayurova/opt/anaconda3/lib/python3.9/site-packages/sklearn/neighbors/_classification.py:228: FutureWarning: Unlike other reduction functions (e.g. `skew`, `kurtosis`), the default behavior of `mode` typically preserves the axis it acts along. In SciPy 1.11.0, this behavior will change: the default value of `keepdims` will become False, the `axis` over which the statistic is taken will be eliminated, and the value None will no longer be accepted. Set `keepdims` to True or False to avoid this warning.\n",
      "  mode, _ = stats.mode(_y[neigh_ind, k], axis=1)\n",
      "/Users/evgeniayurova/opt/anaconda3/lib/python3.9/site-packages/sklearn/neighbors/_classification.py:228: FutureWarning: Unlike other reduction functions (e.g. `skew`, `kurtosis`), the default behavior of `mode` typically preserves the axis it acts along. In SciPy 1.11.0, this behavior will change: the default value of `keepdims` will become False, the `axis` over which the statistic is taken will be eliminated, and the value None will no longer be accepted. Set `keepdims` to True or False to avoid this warning.\n",
      "  mode, _ = stats.mode(_y[neigh_ind, k], axis=1)\n",
      "/Users/evgeniayurova/opt/anaconda3/lib/python3.9/site-packages/sklearn/neighbors/_classification.py:228: FutureWarning: Unlike other reduction functions (e.g. `skew`, `kurtosis`), the default behavior of `mode` typically preserves the axis it acts along. In SciPy 1.11.0, this behavior will change: the default value of `keepdims` will become False, the `axis` over which the statistic is taken will be eliminated, and the value None will no longer be accepted. Set `keepdims` to True or False to avoid this warning.\n",
      "  mode, _ = stats.mode(_y[neigh_ind, k], axis=1)\n",
      "/Users/evgeniayurova/opt/anaconda3/lib/python3.9/site-packages/sklearn/neighbors/_classification.py:228: FutureWarning: Unlike other reduction functions (e.g. `skew`, `kurtosis`), the default behavior of `mode` typically preserves the axis it acts along. In SciPy 1.11.0, this behavior will change: the default value of `keepdims` will become False, the `axis` over which the statistic is taken will be eliminated, and the value None will no longer be accepted. Set `keepdims` to True or False to avoid this warning.\n",
      "  mode, _ = stats.mode(_y[neigh_ind, k], axis=1)\n",
      "/Users/evgeniayurova/opt/anaconda3/lib/python3.9/site-packages/sklearn/neighbors/_classification.py:228: FutureWarning: Unlike other reduction functions (e.g. `skew`, `kurtosis`), the default behavior of `mode` typically preserves the axis it acts along. In SciPy 1.11.0, this behavior will change: the default value of `keepdims` will become False, the `axis` over which the statistic is taken will be eliminated, and the value None will no longer be accepted. Set `keepdims` to True or False to avoid this warning.\n",
      "  mode, _ = stats.mode(_y[neigh_ind, k], axis=1)\n",
      "/Users/evgeniayurova/opt/anaconda3/lib/python3.9/site-packages/sklearn/neighbors/_classification.py:228: FutureWarning: Unlike other reduction functions (e.g. `skew`, `kurtosis`), the default behavior of `mode` typically preserves the axis it acts along. In SciPy 1.11.0, this behavior will change: the default value of `keepdims` will become False, the `axis` over which the statistic is taken will be eliminated, and the value None will no longer be accepted. Set `keepdims` to True or False to avoid this warning.\n",
      "  mode, _ = stats.mode(_y[neigh_ind, k], axis=1)\n",
      "/Users/evgeniayurova/opt/anaconda3/lib/python3.9/site-packages/sklearn/neighbors/_classification.py:228: FutureWarning: Unlike other reduction functions (e.g. `skew`, `kurtosis`), the default behavior of `mode` typically preserves the axis it acts along. In SciPy 1.11.0, this behavior will change: the default value of `keepdims` will become False, the `axis` over which the statistic is taken will be eliminated, and the value None will no longer be accepted. Set `keepdims` to True or False to avoid this warning.\n",
      "  mode, _ = stats.mode(_y[neigh_ind, k], axis=1)\n",
      "/Users/evgeniayurova/opt/anaconda3/lib/python3.9/site-packages/sklearn/neighbors/_classification.py:228: FutureWarning: Unlike other reduction functions (e.g. `skew`, `kurtosis`), the default behavior of `mode` typically preserves the axis it acts along. In SciPy 1.11.0, this behavior will change: the default value of `keepdims` will become False, the `axis` over which the statistic is taken will be eliminated, and the value None will no longer be accepted. Set `keepdims` to True or False to avoid this warning.\n",
      "  mode, _ = stats.mode(_y[neigh_ind, k], axis=1)\n",
      "/Users/evgeniayurova/opt/anaconda3/lib/python3.9/site-packages/sklearn/neighbors/_classification.py:228: FutureWarning: Unlike other reduction functions (e.g. `skew`, `kurtosis`), the default behavior of `mode` typically preserves the axis it acts along. In SciPy 1.11.0, this behavior will change: the default value of `keepdims` will become False, the `axis` over which the statistic is taken will be eliminated, and the value None will no longer be accepted. Set `keepdims` to True or False to avoid this warning.\n",
      "  mode, _ = stats.mode(_y[neigh_ind, k], axis=1)\n",
      "/Users/evgeniayurova/opt/anaconda3/lib/python3.9/site-packages/sklearn/neighbors/_classification.py:228: FutureWarning: Unlike other reduction functions (e.g. `skew`, `kurtosis`), the default behavior of `mode` typically preserves the axis it acts along. In SciPy 1.11.0, this behavior will change: the default value of `keepdims` will become False, the `axis` over which the statistic is taken will be eliminated, and the value None will no longer be accepted. Set `keepdims` to True or False to avoid this warning.\n",
      "  mode, _ = stats.mode(_y[neigh_ind, k], axis=1)\n",
      "/Users/evgeniayurova/opt/anaconda3/lib/python3.9/site-packages/sklearn/neighbors/_classification.py:228: FutureWarning: Unlike other reduction functions (e.g. `skew`, `kurtosis`), the default behavior of `mode` typically preserves the axis it acts along. In SciPy 1.11.0, this behavior will change: the default value of `keepdims` will become False, the `axis` over which the statistic is taken will be eliminated, and the value None will no longer be accepted. Set `keepdims` to True or False to avoid this warning.\n",
      "  mode, _ = stats.mode(_y[neigh_ind, k], axis=1)\n",
      "/Users/evgeniayurova/opt/anaconda3/lib/python3.9/site-packages/sklearn/neighbors/_classification.py:228: FutureWarning: Unlike other reduction functions (e.g. `skew`, `kurtosis`), the default behavior of `mode` typically preserves the axis it acts along. In SciPy 1.11.0, this behavior will change: the default value of `keepdims` will become False, the `axis` over which the statistic is taken will be eliminated, and the value None will no longer be accepted. Set `keepdims` to True or False to avoid this warning.\n",
      "  mode, _ = stats.mode(_y[neigh_ind, k], axis=1)\n",
      "/Users/evgeniayurova/opt/anaconda3/lib/python3.9/site-packages/sklearn/neighbors/_classification.py:228: FutureWarning: Unlike other reduction functions (e.g. `skew`, `kurtosis`), the default behavior of `mode` typically preserves the axis it acts along. In SciPy 1.11.0, this behavior will change: the default value of `keepdims` will become False, the `axis` over which the statistic is taken will be eliminated, and the value None will no longer be accepted. Set `keepdims` to True or False to avoid this warning.\n",
      "  mode, _ = stats.mode(_y[neigh_ind, k], axis=1)\n",
      "/Users/evgeniayurova/opt/anaconda3/lib/python3.9/site-packages/sklearn/neighbors/_classification.py:228: FutureWarning: Unlike other reduction functions (e.g. `skew`, `kurtosis`), the default behavior of `mode` typically preserves the axis it acts along. In SciPy 1.11.0, this behavior will change: the default value of `keepdims` will become False, the `axis` over which the statistic is taken will be eliminated, and the value None will no longer be accepted. Set `keepdims` to True or False to avoid this warning.\n",
      "  mode, _ = stats.mode(_y[neigh_ind, k], axis=1)\n",
      "/Users/evgeniayurova/opt/anaconda3/lib/python3.9/site-packages/sklearn/neighbors/_classification.py:228: FutureWarning: Unlike other reduction functions (e.g. `skew`, `kurtosis`), the default behavior of `mode` typically preserves the axis it acts along. In SciPy 1.11.0, this behavior will change: the default value of `keepdims` will become False, the `axis` over which the statistic is taken will be eliminated, and the value None will no longer be accepted. Set `keepdims` to True or False to avoid this warning.\n",
      "  mode, _ = stats.mode(_y[neigh_ind, k], axis=1)\n",
      "/Users/evgeniayurova/opt/anaconda3/lib/python3.9/site-packages/sklearn/neighbors/_classification.py:228: FutureWarning: Unlike other reduction functions (e.g. `skew`, `kurtosis`), the default behavior of `mode` typically preserves the axis it acts along. In SciPy 1.11.0, this behavior will change: the default value of `keepdims` will become False, the `axis` over which the statistic is taken will be eliminated, and the value None will no longer be accepted. Set `keepdims` to True or False to avoid this warning.\n",
      "  mode, _ = stats.mode(_y[neigh_ind, k], axis=1)\n",
      "/Users/evgeniayurova/opt/anaconda3/lib/python3.9/site-packages/sklearn/neighbors/_classification.py:228: FutureWarning: Unlike other reduction functions (e.g. `skew`, `kurtosis`), the default behavior of `mode` typically preserves the axis it acts along. In SciPy 1.11.0, this behavior will change: the default value of `keepdims` will become False, the `axis` over which the statistic is taken will be eliminated, and the value None will no longer be accepted. Set `keepdims` to True or False to avoid this warning.\n",
      "  mode, _ = stats.mode(_y[neigh_ind, k], axis=1)\n",
      "/Users/evgeniayurova/opt/anaconda3/lib/python3.9/site-packages/sklearn/neighbors/_classification.py:228: FutureWarning: Unlike other reduction functions (e.g. `skew`, `kurtosis`), the default behavior of `mode` typically preserves the axis it acts along. In SciPy 1.11.0, this behavior will change: the default value of `keepdims` will become False, the `axis` over which the statistic is taken will be eliminated, and the value None will no longer be accepted. Set `keepdims` to True or False to avoid this warning.\n",
      "  mode, _ = stats.mode(_y[neigh_ind, k], axis=1)\n",
      "/Users/evgeniayurova/opt/anaconda3/lib/python3.9/site-packages/sklearn/neighbors/_classification.py:228: FutureWarning: Unlike other reduction functions (e.g. `skew`, `kurtosis`), the default behavior of `mode` typically preserves the axis it acts along. In SciPy 1.11.0, this behavior will change: the default value of `keepdims` will become False, the `axis` over which the statistic is taken will be eliminated, and the value None will no longer be accepted. Set `keepdims` to True or False to avoid this warning.\n",
      "  mode, _ = stats.mode(_y[neigh_ind, k], axis=1)\n",
      "/Users/evgeniayurova/opt/anaconda3/lib/python3.9/site-packages/sklearn/neighbors/_classification.py:228: FutureWarning: Unlike other reduction functions (e.g. `skew`, `kurtosis`), the default behavior of `mode` typically preserves the axis it acts along. In SciPy 1.11.0, this behavior will change: the default value of `keepdims` will become False, the `axis` over which the statistic is taken will be eliminated, and the value None will no longer be accepted. Set `keepdims` to True or False to avoid this warning.\n",
      "  mode, _ = stats.mode(_y[neigh_ind, k], axis=1)\n",
      "/Users/evgeniayurova/opt/anaconda3/lib/python3.9/site-packages/sklearn/neighbors/_classification.py:228: FutureWarning: Unlike other reduction functions (e.g. `skew`, `kurtosis`), the default behavior of `mode` typically preserves the axis it acts along. In SciPy 1.11.0, this behavior will change: the default value of `keepdims` will become False, the `axis` over which the statistic is taken will be eliminated, and the value None will no longer be accepted. Set `keepdims` to True or False to avoid this warning.\n",
      "  mode, _ = stats.mode(_y[neigh_ind, k], axis=1)\n",
      "/Users/evgeniayurova/opt/anaconda3/lib/python3.9/site-packages/sklearn/neighbors/_classification.py:228: FutureWarning: Unlike other reduction functions (e.g. `skew`, `kurtosis`), the default behavior of `mode` typically preserves the axis it acts along. In SciPy 1.11.0, this behavior will change: the default value of `keepdims` will become False, the `axis` over which the statistic is taken will be eliminated, and the value None will no longer be accepted. Set `keepdims` to True or False to avoid this warning.\n",
      "  mode, _ = stats.mode(_y[neigh_ind, k], axis=1)\n"
     ]
    },
    {
     "name": "stderr",
     "output_type": "stream",
     "text": [
      "/Users/evgeniayurova/opt/anaconda3/lib/python3.9/site-packages/sklearn/neighbors/_classification.py:228: FutureWarning: Unlike other reduction functions (e.g. `skew`, `kurtosis`), the default behavior of `mode` typically preserves the axis it acts along. In SciPy 1.11.0, this behavior will change: the default value of `keepdims` will become False, the `axis` over which the statistic is taken will be eliminated, and the value None will no longer be accepted. Set `keepdims` to True or False to avoid this warning.\n",
      "  mode, _ = stats.mode(_y[neigh_ind, k], axis=1)\n",
      "/Users/evgeniayurova/opt/anaconda3/lib/python3.9/site-packages/sklearn/neighbors/_classification.py:228: FutureWarning: Unlike other reduction functions (e.g. `skew`, `kurtosis`), the default behavior of `mode` typically preserves the axis it acts along. In SciPy 1.11.0, this behavior will change: the default value of `keepdims` will become False, the `axis` over which the statistic is taken will be eliminated, and the value None will no longer be accepted. Set `keepdims` to True or False to avoid this warning.\n",
      "  mode, _ = stats.mode(_y[neigh_ind, k], axis=1)\n",
      "/Users/evgeniayurova/opt/anaconda3/lib/python3.9/site-packages/sklearn/neighbors/_classification.py:228: FutureWarning: Unlike other reduction functions (e.g. `skew`, `kurtosis`), the default behavior of `mode` typically preserves the axis it acts along. In SciPy 1.11.0, this behavior will change: the default value of `keepdims` will become False, the `axis` over which the statistic is taken will be eliminated, and the value None will no longer be accepted. Set `keepdims` to True or False to avoid this warning.\n",
      "  mode, _ = stats.mode(_y[neigh_ind, k], axis=1)\n",
      "/Users/evgeniayurova/opt/anaconda3/lib/python3.9/site-packages/sklearn/neighbors/_classification.py:228: FutureWarning: Unlike other reduction functions (e.g. `skew`, `kurtosis`), the default behavior of `mode` typically preserves the axis it acts along. In SciPy 1.11.0, this behavior will change: the default value of `keepdims` will become False, the `axis` over which the statistic is taken will be eliminated, and the value None will no longer be accepted. Set `keepdims` to True or False to avoid this warning.\n",
      "  mode, _ = stats.mode(_y[neigh_ind, k], axis=1)\n",
      "/Users/evgeniayurova/opt/anaconda3/lib/python3.9/site-packages/sklearn/neighbors/_classification.py:228: FutureWarning: Unlike other reduction functions (e.g. `skew`, `kurtosis`), the default behavior of `mode` typically preserves the axis it acts along. In SciPy 1.11.0, this behavior will change: the default value of `keepdims` will become False, the `axis` over which the statistic is taken will be eliminated, and the value None will no longer be accepted. Set `keepdims` to True or False to avoid this warning.\n",
      "  mode, _ = stats.mode(_y[neigh_ind, k], axis=1)\n",
      "/Users/evgeniayurova/opt/anaconda3/lib/python3.9/site-packages/sklearn/neighbors/_classification.py:228: FutureWarning: Unlike other reduction functions (e.g. `skew`, `kurtosis`), the default behavior of `mode` typically preserves the axis it acts along. In SciPy 1.11.0, this behavior will change: the default value of `keepdims` will become False, the `axis` over which the statistic is taken will be eliminated, and the value None will no longer be accepted. Set `keepdims` to True or False to avoid this warning.\n",
      "  mode, _ = stats.mode(_y[neigh_ind, k], axis=1)\n",
      "/Users/evgeniayurova/opt/anaconda3/lib/python3.9/site-packages/sklearn/neighbors/_classification.py:228: FutureWarning: Unlike other reduction functions (e.g. `skew`, `kurtosis`), the default behavior of `mode` typically preserves the axis it acts along. In SciPy 1.11.0, this behavior will change: the default value of `keepdims` will become False, the `axis` over which the statistic is taken will be eliminated, and the value None will no longer be accepted. Set `keepdims` to True or False to avoid this warning.\n",
      "  mode, _ = stats.mode(_y[neigh_ind, k], axis=1)\n",
      "/Users/evgeniayurova/opt/anaconda3/lib/python3.9/site-packages/sklearn/neighbors/_classification.py:228: FutureWarning: Unlike other reduction functions (e.g. `skew`, `kurtosis`), the default behavior of `mode` typically preserves the axis it acts along. In SciPy 1.11.0, this behavior will change: the default value of `keepdims` will become False, the `axis` over which the statistic is taken will be eliminated, and the value None will no longer be accepted. Set `keepdims` to True or False to avoid this warning.\n",
      "  mode, _ = stats.mode(_y[neigh_ind, k], axis=1)\n",
      "/Users/evgeniayurova/opt/anaconda3/lib/python3.9/site-packages/sklearn/neighbors/_classification.py:228: FutureWarning: Unlike other reduction functions (e.g. `skew`, `kurtosis`), the default behavior of `mode` typically preserves the axis it acts along. In SciPy 1.11.0, this behavior will change: the default value of `keepdims` will become False, the `axis` over which the statistic is taken will be eliminated, and the value None will no longer be accepted. Set `keepdims` to True or False to avoid this warning.\n",
      "  mode, _ = stats.mode(_y[neigh_ind, k], axis=1)\n",
      "/Users/evgeniayurova/opt/anaconda3/lib/python3.9/site-packages/sklearn/neighbors/_classification.py:228: FutureWarning: Unlike other reduction functions (e.g. `skew`, `kurtosis`), the default behavior of `mode` typically preserves the axis it acts along. In SciPy 1.11.0, this behavior will change: the default value of `keepdims` will become False, the `axis` over which the statistic is taken will be eliminated, and the value None will no longer be accepted. Set `keepdims` to True or False to avoid this warning.\n",
      "  mode, _ = stats.mode(_y[neigh_ind, k], axis=1)\n",
      "/Users/evgeniayurova/opt/anaconda3/lib/python3.9/site-packages/sklearn/neighbors/_classification.py:228: FutureWarning: Unlike other reduction functions (e.g. `skew`, `kurtosis`), the default behavior of `mode` typically preserves the axis it acts along. In SciPy 1.11.0, this behavior will change: the default value of `keepdims` will become False, the `axis` over which the statistic is taken will be eliminated, and the value None will no longer be accepted. Set `keepdims` to True or False to avoid this warning.\n",
      "  mode, _ = stats.mode(_y[neigh_ind, k], axis=1)\n",
      "/Users/evgeniayurova/opt/anaconda3/lib/python3.9/site-packages/sklearn/neighbors/_classification.py:228: FutureWarning: Unlike other reduction functions (e.g. `skew`, `kurtosis`), the default behavior of `mode` typically preserves the axis it acts along. In SciPy 1.11.0, this behavior will change: the default value of `keepdims` will become False, the `axis` over which the statistic is taken will be eliminated, and the value None will no longer be accepted. Set `keepdims` to True or False to avoid this warning.\n",
      "  mode, _ = stats.mode(_y[neigh_ind, k], axis=1)\n",
      "/Users/evgeniayurova/opt/anaconda3/lib/python3.9/site-packages/sklearn/neighbors/_classification.py:228: FutureWarning: Unlike other reduction functions (e.g. `skew`, `kurtosis`), the default behavior of `mode` typically preserves the axis it acts along. In SciPy 1.11.0, this behavior will change: the default value of `keepdims` will become False, the `axis` over which the statistic is taken will be eliminated, and the value None will no longer be accepted. Set `keepdims` to True or False to avoid this warning.\n",
      "  mode, _ = stats.mode(_y[neigh_ind, k], axis=1)\n",
      "/Users/evgeniayurova/opt/anaconda3/lib/python3.9/site-packages/sklearn/neighbors/_classification.py:228: FutureWarning: Unlike other reduction functions (e.g. `skew`, `kurtosis`), the default behavior of `mode` typically preserves the axis it acts along. In SciPy 1.11.0, this behavior will change: the default value of `keepdims` will become False, the `axis` over which the statistic is taken will be eliminated, and the value None will no longer be accepted. Set `keepdims` to True or False to avoid this warning.\n",
      "  mode, _ = stats.mode(_y[neigh_ind, k], axis=1)\n",
      "/Users/evgeniayurova/opt/anaconda3/lib/python3.9/site-packages/sklearn/neighbors/_classification.py:228: FutureWarning: Unlike other reduction functions (e.g. `skew`, `kurtosis`), the default behavior of `mode` typically preserves the axis it acts along. In SciPy 1.11.0, this behavior will change: the default value of `keepdims` will become False, the `axis` over which the statistic is taken will be eliminated, and the value None will no longer be accepted. Set `keepdims` to True or False to avoid this warning.\n",
      "  mode, _ = stats.mode(_y[neigh_ind, k], axis=1)\n"
     ]
    },
    {
     "name": "stdout",
     "output_type": "stream",
     "text": [
      "CPU times: user 394 ms, sys: 15 ms, total: 409 ms\n",
      "Wall time: 533 ms\n"
     ]
    },
    {
     "name": "stderr",
     "output_type": "stream",
     "text": [
      "/Users/evgeniayurova/opt/anaconda3/lib/python3.9/site-packages/sklearn/neighbors/_classification.py:228: FutureWarning: Unlike other reduction functions (e.g. `skew`, `kurtosis`), the default behavior of `mode` typically preserves the axis it acts along. In SciPy 1.11.0, this behavior will change: the default value of `keepdims` will become False, the `axis` over which the statistic is taken will be eliminated, and the value None will no longer be accepted. Set `keepdims` to True or False to avoid this warning.\n",
      "  mode, _ = stats.mode(_y[neigh_ind, k], axis=1)\n",
      "/Users/evgeniayurova/opt/anaconda3/lib/python3.9/site-packages/sklearn/neighbors/_classification.py:228: FutureWarning: Unlike other reduction functions (e.g. `skew`, `kurtosis`), the default behavior of `mode` typically preserves the axis it acts along. In SciPy 1.11.0, this behavior will change: the default value of `keepdims` will become False, the `axis` over which the statistic is taken will be eliminated, and the value None will no longer be accepted. Set `keepdims` to True or False to avoid this warning.\n",
      "  mode, _ = stats.mode(_y[neigh_ind, k], axis=1)\n",
      "/Users/evgeniayurova/opt/anaconda3/lib/python3.9/site-packages/sklearn/neighbors/_classification.py:228: FutureWarning: Unlike other reduction functions (e.g. `skew`, `kurtosis`), the default behavior of `mode` typically preserves the axis it acts along. In SciPy 1.11.0, this behavior will change: the default value of `keepdims` will become False, the `axis` over which the statistic is taken will be eliminated, and the value None will no longer be accepted. Set `keepdims` to True or False to avoid this warning.\n",
      "  mode, _ = stats.mode(_y[neigh_ind, k], axis=1)\n",
      "/Users/evgeniayurova/opt/anaconda3/lib/python3.9/site-packages/sklearn/neighbors/_classification.py:228: FutureWarning: Unlike other reduction functions (e.g. `skew`, `kurtosis`), the default behavior of `mode` typically preserves the axis it acts along. In SciPy 1.11.0, this behavior will change: the default value of `keepdims` will become False, the `axis` over which the statistic is taken will be eliminated, and the value None will no longer be accepted. Set `keepdims` to True or False to avoid this warning.\n",
      "  mode, _ = stats.mode(_y[neigh_ind, k], axis=1)\n",
      "/Users/evgeniayurova/opt/anaconda3/lib/python3.9/site-packages/sklearn/neighbors/_classification.py:228: FutureWarning: Unlike other reduction functions (e.g. `skew`, `kurtosis`), the default behavior of `mode` typically preserves the axis it acts along. In SciPy 1.11.0, this behavior will change: the default value of `keepdims` will become False, the `axis` over which the statistic is taken will be eliminated, and the value None will no longer be accepted. Set `keepdims` to True or False to avoid this warning.\n",
      "  mode, _ = stats.mode(_y[neigh_ind, k], axis=1)\n",
      "/Users/evgeniayurova/opt/anaconda3/lib/python3.9/site-packages/sklearn/neighbors/_classification.py:228: FutureWarning: Unlike other reduction functions (e.g. `skew`, `kurtosis`), the default behavior of `mode` typically preserves the axis it acts along. In SciPy 1.11.0, this behavior will change: the default value of `keepdims` will become False, the `axis` over which the statistic is taken will be eliminated, and the value None will no longer be accepted. Set `keepdims` to True or False to avoid this warning.\n",
      "  mode, _ = stats.mode(_y[neigh_ind, k], axis=1)\n",
      "/Users/evgeniayurova/opt/anaconda3/lib/python3.9/site-packages/sklearn/neighbors/_classification.py:228: FutureWarning: Unlike other reduction functions (e.g. `skew`, `kurtosis`), the default behavior of `mode` typically preserves the axis it acts along. In SciPy 1.11.0, this behavior will change: the default value of `keepdims` will become False, the `axis` over which the statistic is taken will be eliminated, and the value None will no longer be accepted. Set `keepdims` to True or False to avoid this warning.\n",
      "  mode, _ = stats.mode(_y[neigh_ind, k], axis=1)\n",
      "/Users/evgeniayurova/opt/anaconda3/lib/python3.9/site-packages/sklearn/neighbors/_classification.py:228: FutureWarning: Unlike other reduction functions (e.g. `skew`, `kurtosis`), the default behavior of `mode` typically preserves the axis it acts along. In SciPy 1.11.0, this behavior will change: the default value of `keepdims` will become False, the `axis` over which the statistic is taken will be eliminated, and the value None will no longer be accepted. Set `keepdims` to True or False to avoid this warning.\n",
      "  mode, _ = stats.mode(_y[neigh_ind, k], axis=1)\n",
      "/Users/evgeniayurova/opt/anaconda3/lib/python3.9/site-packages/sklearn/neighbors/_classification.py:228: FutureWarning: Unlike other reduction functions (e.g. `skew`, `kurtosis`), the default behavior of `mode` typically preserves the axis it acts along. In SciPy 1.11.0, this behavior will change: the default value of `keepdims` will become False, the `axis` over which the statistic is taken will be eliminated, and the value None will no longer be accepted. Set `keepdims` to True or False to avoid this warning.\n",
      "  mode, _ = stats.mode(_y[neigh_ind, k], axis=1)\n",
      "/Users/evgeniayurova/opt/anaconda3/lib/python3.9/site-packages/sklearn/neighbors/_classification.py:228: FutureWarning: Unlike other reduction functions (e.g. `skew`, `kurtosis`), the default behavior of `mode` typically preserves the axis it acts along. In SciPy 1.11.0, this behavior will change: the default value of `keepdims` will become False, the `axis` over which the statistic is taken will be eliminated, and the value None will no longer be accepted. Set `keepdims` to True or False to avoid this warning.\n",
      "  mode, _ = stats.mode(_y[neigh_ind, k], axis=1)\n"
     ]
    },
    {
     "data": {
      "text/plain": [
       "RandomizedSearchCV(cv=5, estimator=KNeighborsClassifier(),\n",
       "                   param_distributions=[{'n_neighbors': array([ 5, 10, 15, 20, 25, 30, 35, 40, 45, 50])}],\n",
       "                   scoring='accuracy')"
      ]
     },
     "execution_count": 96,
     "metadata": {},
     "output_type": "execute_result"
    }
   ],
   "source": [
    "%%time\n",
    "clf_rs = RandomizedSearchCV(KNeighborsClassifier(), tuned_parameters, cv=5, scoring='accuracy')\n",
    "clf_rs.fit(X_train, y_train)"
   ]
  },
  {
   "cell_type": "code",
   "execution_count": 97,
   "id": "9da46a77",
   "metadata": {},
   "outputs": [
    {
     "data": {
      "text/plain": [
       "(0.951507139079852, {'n_neighbors': 5})"
      ]
     },
     "execution_count": 97,
     "metadata": {},
     "output_type": "execute_result"
    }
   ],
   "source": [
    "clf_rs.best_score_, clf_rs.best_params_"
   ]
  },
  {
   "cell_type": "code",
   "execution_count": 98,
   "id": "1241c0ad",
   "metadata": {},
   "outputs": [
    {
     "data": {
      "text/plain": [
       "[<matplotlib.lines.Line2D at 0x7f8454dcf0d0>]"
      ]
     },
     "execution_count": 98,
     "metadata": {},
     "output_type": "execute_result"
    },
    {
     "data": {
      "image/png": "[encoded data removed]",
      "text/plain": [
       "<Figure size 640x480 with 1 Axes>"
      ]
     },
     "metadata": {},
     "output_type": "display_data"
    }
   ],
   "source": [
    "plt.plot(n_range, clf_rs.cv_results_['mean_test_score'])"
   ]
  },
  {
   "cell_type": "markdown",
   "id": "7e1afc60",
   "metadata": {},
   "source": [
    "## Построение оптимальной модели"
   ]
  },
  {
   "cell_type": "markdown",
   "id": "a384b11b",
   "metadata": {},
   "source": [
    "Оптимальное число ближайших соседей = 5. Построим оптимальную модель:"
   ]
  },
  {
   "cell_type": "code",
   "execution_count": 100,
   "id": "8e0bcc33",
   "metadata": {},
   "outputs": [
    {
     "name": "stderr",
     "output_type": "stream",
     "text": [
      "/Users/evgeniayurova/opt/anaconda3/lib/python3.9/site-packages/sklearn/neighbors/_classification.py:228: FutureWarning: Unlike other reduction functions (e.g. `skew`, `kurtosis`), the default behavior of `mode` typically preserves the axis it acts along. In SciPy 1.11.0, this behavior will change: the default value of `keepdims` will become False, the `axis` over which the statistic is taken will be eliminated, and the value None will no longer be accepted. Set `keepdims` to True or False to avoid this warning.\n",
      "  mode, _ = stats.mode(_y[neigh_ind, k], axis=1)\n"
     ]
    },
    {
     "data": {
      "text/plain": [
       "(104,\n",
       " array([1, 3, 3, 2, 5, 1, 1, 2, 5, 1, 0, 4, 1, 5, 2, 5, 2, 5, 1, 3, 2, 2,\n",
       "        3, 3, 3, 3, 5, 0, 2, 2, 3, 3, 5, 3, 2, 3, 3, 3, 4, 3, 2, 3, 1, 2,\n",
       "        2, 3, 3, 2, 2, 4, 0, 2, 2, 2, 2, 3, 2, 0, 2, 0, 3, 1, 1, 4, 1, 3,\n",
       "        3, 1, 0, 2, 3, 2, 2, 2, 1, 2, 2, 2, 1, 5, 2, 0, 3, 3, 5, 0, 2, 3,\n",
       "        1, 0, 2, 5, 3, 2, 3, 3, 3, 1, 1, 3, 0, 5, 2, 2]))"
      ]
     },
     "execution_count": 100,
     "metadata": {},
     "output_type": "execute_result"
    }
   ],
   "source": [
    "clf_o = KNeighborsClassifier(n_neighbors=5)\n",
    "clf_o.fit(X_train, y_train)\n",
    "target_o = clf_o.predict(X_test)\n",
    "len(target_o), target_o"
   ]
  },
  {
   "cell_type": "markdown",
   "id": "45a37f82",
   "metadata": {},
   "source": [
    "## Оценка качества исходной и оптимальной модели"
   ]
  },
  {
   "cell_type": "markdown",
   "id": "1c7aa6ff",
   "metadata": {},
   "source": [
    "### Метрика \"Матрица ошибок\""
   ]
  },
  {
   "cell_type": "code",
   "execution_count": 101,
   "id": "72062067",
   "metadata": {},
   "outputs": [],
   "source": [
    "from sklearn.metrics import ConfusionMatrixDisplay\n",
    "from sklearn.metrics import confusion_matrix"
   ]
  },
  {
   "cell_type": "code",
   "execution_count": 108,
   "id": "c29ab8a8",
   "metadata": {},
   "outputs": [],
   "source": [
    "# Конвертация целевого признака в бинарный\n",
    "def convert_target_to_binary(array:np.ndarray, target:int) -> np.ndarray:\n",
    "    # Если целевой признак совпадает с указанным, то 1 иначе 0\n",
    "    res = [1 if x==target else 0 for x in array]\n",
    "    return res"
   ]
  },
  {
   "cell_type": "code",
   "execution_count": 110,
   "id": "679f2b47",
   "metadata": {},
   "outputs": [
    {
     "data": {
      "text/plain": [
       "[(5, 0),\n",
       " (2, 1),\n",
       " (5, 0),\n",
       " (2, 1),\n",
       " (2, 1),\n",
       " (1, 0),\n",
       " (5, 0),\n",
       " (2, 1),\n",
       " (4, 0),\n",
       " (3, 0)]"
      ]
     },
     "execution_count": 110,
     "metadata": {},
     "output_type": "execute_result"
    }
   ],
   "source": [
    "# Если целевой признак ==2, \n",
    "# то будем считать этот случай 1 в бинарном признаке\n",
    "bin_y_train = convert_target_to_binary(y_train, 2)\n",
    "list(zip(y_train, bin_y_train))[:10]"
   ]
  },
  {
   "cell_type": "code",
   "execution_count": 111,
   "id": "9e0e6b25",
   "metadata": {},
   "outputs": [
    {
     "data": {
      "text/plain": [
       "[(4, 0),\n",
       " (3, 0),\n",
       " (3, 0),\n",
       " (2, 1),\n",
       " (4, 0),\n",
       " (1, 0),\n",
       " (1, 0),\n",
       " (2, 1),\n",
       " (5, 0),\n",
       " (1, 0)]"
      ]
     },
     "execution_count": 111,
     "metadata": {},
     "output_type": "execute_result"
    }
   ],
   "source": [
    "bin_y_test = convert_target_to_binary(y_test, 2)\n",
    "list(zip(y_test, bin_y_test))[:10]"
   ]
  },
  {
   "cell_type": "code",
   "execution_count": 144,
   "id": "d209d8eb",
   "metadata": {},
   "outputs": [],
   "source": [
    "# Конвертация предсказанных признаков\n",
    "bin_target_i = convert_target_to_binary(target_i, 2)\n",
    "bin_target_o = convert_target_to_binary(target_o, 2)"
   ]
  },
  {
   "cell_type": "code",
   "execution_count": 116,
   "id": "f87f5ddd",
   "metadata": {},
   "outputs": [
    {
     "data": {
      "text/plain": [
       "array([[71,  0],\n",
       "       [ 0, 33]])"
      ]
     },
     "execution_count": 116,
     "metadata": {},
     "output_type": "execute_result"
    }
   ],
   "source": [
    "confusion_matrix(bin_y_test, bin_target1_1, labels=[0, 1])"
   ]
  },
  {
   "cell_type": "code",
   "execution_count": 117,
   "id": "cbc98e55",
   "metadata": {},
   "outputs": [
    {
     "data": {
      "text/plain": [
       "(71, 0, 0, 33)"
      ]
     },
     "execution_count": 117,
     "metadata": {},
     "output_type": "execute_result"
    }
   ],
   "source": [
    "tn, fp, fn, tp = confusion_matrix(bin_y_test, bin_target1_1).ravel()\n",
    "tn, fp, fn, tp"
   ]
  },
  {
   "cell_type": "code",
   "execution_count": 119,
   "id": "c2b79502",
   "metadata": {},
   "outputs": [
    {
     "data": {
      "text/plain": [
       "array([[10,  0,  0,  0,  0,  0],\n",
       "       [ 1, 13,  0,  0,  0,  0],\n",
       "       [ 0,  0, 33,  0,  0,  0],\n",
       "       [ 0,  0,  0, 29,  0,  0],\n",
       "       [ 0,  2,  0,  0,  6,  0],\n",
       "       [ 0,  0,  0,  0,  0, 10]])"
      ]
     },
     "execution_count": 119,
     "metadata": {},
     "output_type": "execute_result"
    }
   ],
   "source": [
    "# Пример для небинарной классификации\n",
    "confusion_matrix(y_test, target1_1, labels=[0, 1, 2,3,4,5])"
   ]
  },
  {
   "cell_type": "code",
   "execution_count": 121,
   "id": "c6a77a43",
   "metadata": {},
   "outputs": [],
   "source": [
    "from sklearn.metrics import plot_confusion_matrix"
   ]
  },
  {
   "cell_type": "code",
   "execution_count": 127,
   "id": "ab28dad9",
   "metadata": {},
   "outputs": [
    {
     "name": "stderr",
     "output_type": "stream",
     "text": [
      "/Users/evgeniayurova/opt/anaconda3/lib/python3.9/site-packages/sklearn/neighbors/_classification.py:228: FutureWarning: Unlike other reduction functions (e.g. `skew`, `kurtosis`), the default behavior of `mode` typically preserves the axis it acts along. In SciPy 1.11.0, this behavior will change: the default value of `keepdims` will become False, the `axis` over which the statistic is taken will be eliminated, and the value None will no longer be accepted. Set `keepdims` to True or False to avoid this warning.\n",
      "  mode, _ = stats.mode(_y[neigh_ind, k], axis=1)\n"
     ]
    },
    {
     "data": {
      "text/plain": [
       "<sklearn.metrics._plot.confusion_matrix.ConfusionMatrixDisplay at 0x7f8455a09730>"
      ]
     },
     "execution_count": 127,
     "metadata": {},
     "output_type": "execute_result"
    },
    {
     "data": {
      "image/png": "[encoded data removed]",
      "text/plain": [
       "<Figure size 640x480 with 2 Axes>"
      ]
     },
     "metadata": {},
     "output_type": "display_data"
    }
   ],
   "source": [
    "ConfusionMatrixDisplay.from_estimator(\n",
    "        clf_i,\n",
    "        X_test,\n",
    "        y_test,\n",
    "        display_labels=clf_i.classes_,\n",
    "        cmap=plt.cm.Blues,\n",
    "        normalize='true',\n",
    "    )"
   ]
  },
  {
   "cell_type": "code",
   "execution_count": 128,
   "id": "5af14ad7",
   "metadata": {},
   "outputs": [
    {
     "data": {
      "text/plain": [
       "array([[10,  0,  0,  0,  0,  0],\n",
       "       [ 0, 14,  0,  0,  0,  0],\n",
       "       [ 0,  0, 33,  0,  0,  0],\n",
       "       [ 0,  0,  0, 29,  0,  0],\n",
       "       [ 0,  2,  0,  0,  4,  2],\n",
       "       [ 0,  0,  0,  1,  0,  9]])"
      ]
     },
     "execution_count": 128,
     "metadata": {},
     "output_type": "execute_result"
    }
   ],
   "source": [
    "confusion_matrix(y_test, target_o, labels=[0, 1, 2, 3, 4, 5])"
   ]
  },
  {
   "cell_type": "code",
   "execution_count": 129,
   "id": "ee3d36e8",
   "metadata": {},
   "outputs": [
    {
     "name": "stderr",
     "output_type": "stream",
     "text": [
      "/Users/evgeniayurova/opt/anaconda3/lib/python3.9/site-packages/sklearn/neighbors/_classification.py:228: FutureWarning: Unlike other reduction functions (e.g. `skew`, `kurtosis`), the default behavior of `mode` typically preserves the axis it acts along. In SciPy 1.11.0, this behavior will change: the default value of `keepdims` will become False, the `axis` over which the statistic is taken will be eliminated, and the value None will no longer be accepted. Set `keepdims` to True or False to avoid this warning.\n",
      "  mode, _ = stats.mode(_y[neigh_ind, k], axis=1)\n"
     ]
    },
    {
     "data": {
      "text/plain": [
       "<sklearn.metrics._plot.confusion_matrix.ConfusionMatrixDisplay at 0x7f8455b067f0>"
      ]
     },
     "execution_count": 129,
     "metadata": {},
     "output_type": "execute_result"
    },
    {
     "data": {
      "image/png": "[encoded data removed]",
      "text/plain": [
       "<Figure size 640x480 with 2 Axes>"
      ]
     },
     "metadata": {},
     "output_type": "display_data"
    }
   ],
   "source": [
    "ConfusionMatrixDisplay.from_estimator(\n",
    "        clf_o,\n",
    "        X_test,\n",
    "        y_test,\n",
    "        display_labels=clf_o.classes_,\n",
    "        cmap=plt.cm.Blues,\n",
    "        normalize='true',\n",
    "    )"
   ]
  },
  {
   "cell_type": "markdown",
   "id": "5f0f9fc4",
   "metadata": {},
   "source": [
    "У исходной модели точность выше чем у оптимальной"
   ]
  },
  {
   "cell_type": "code",
   "execution_count": 137,
   "id": "7d4392d4",
   "metadata": {},
   "outputs": [
    {
     "name": "stderr",
     "output_type": "stream",
     "text": [
      "/Users/evgeniayurova/opt/anaconda3/lib/python3.9/site-packages/sklearn/neighbors/_classification.py:228: FutureWarning: Unlike other reduction functions (e.g. `skew`, `kurtosis`), the default behavior of `mode` typically preserves the axis it acts along. In SciPy 1.11.0, this behavior will change: the default value of `keepdims` will become False, the `axis` over which the statistic is taken will be eliminated, and the value None will no longer be accepted. Set `keepdims` to True or False to avoid this warning.\n",
      "  mode, _ = stats.mode(_y[neigh_ind, k], axis=1)\n"
     ]
    },
    {
     "data": {
      "text/plain": [
       "array([0, 0, 0, 1, 0, 0, 0, 0, 0, 0, 0, 0, 0, 0, 1, 0, 1, 0, 0, 0, 1, 1,\n",
       "       0, 0, 0, 0, 0, 0, 1, 1, 0, 0, 0, 0, 1, 0, 0, 0, 0, 0, 1, 0, 0, 1,\n",
       "       1, 0, 0, 1, 1, 0, 0, 1, 1, 1, 1, 0, 0, 0, 1, 0, 0, 0, 0, 0, 0, 0,\n",
       "       0, 0, 0, 1, 0, 1, 1, 1, 0, 1, 1, 1, 0, 0, 1, 0, 0, 0, 0, 0, 1, 0,\n",
       "       0, 0, 1, 0, 0, 1, 0, 0, 0, 0, 0, 0, 0, 0, 1, 1])"
      ]
     },
     "execution_count": 137,
     "metadata": {},
     "output_type": "execute_result"
    }
   ],
   "source": [
    "bin_clf_i = KNeighborsClassifier(n_neighbors=20)\n",
    "bin_clf_i.fit(X_train, bin_y_train)\n",
    "bin_clf_i.predict(X_test)"
   ]
  },
  {
   "cell_type": "code",
   "execution_count": 138,
   "id": "3586ad8f",
   "metadata": {},
   "outputs": [
    {
     "data": {
      "text/plain": [
       "(104,\n",
       " array([[1.  , 0.  ],\n",
       "        [1.  , 0.  ],\n",
       "        [1.  , 0.  ],\n",
       "        [0.  , 1.  ],\n",
       "        [1.  , 0.  ],\n",
       "        [1.  , 0.  ],\n",
       "        [1.  , 0.  ],\n",
       "        [0.55, 0.45],\n",
       "        [1.  , 0.  ],\n",
       "        [1.  , 0.  ],\n",
       "        [0.85, 0.15],\n",
       "        [1.  , 0.  ],\n",
       "        [1.  , 0.  ],\n",
       "        [1.  , 0.  ],\n",
       "        [0.  , 1.  ],\n",
       "        [1.  , 0.  ],\n",
       "        [0.  , 1.  ],\n",
       "        [1.  , 0.  ],\n",
       "        [1.  , 0.  ],\n",
       "        [1.  , 0.  ],\n",
       "        [0.  , 1.  ],\n",
       "        [0.  , 1.  ],\n",
       "        [1.  , 0.  ],\n",
       "        [1.  , 0.  ],\n",
       "        [1.  , 0.  ],\n",
       "        [1.  , 0.  ],\n",
       "        [1.  , 0.  ],\n",
       "        [0.75, 0.25],\n",
       "        [0.  , 1.  ],\n",
       "        [0.  , 1.  ],\n",
       "        [1.  , 0.  ],\n",
       "        [1.  , 0.  ],\n",
       "        [1.  , 0.  ],\n",
       "        [1.  , 0.  ],\n",
       "        [0.  , 1.  ],\n",
       "        [1.  , 0.  ],\n",
       "        [1.  , 0.  ],\n",
       "        [1.  , 0.  ],\n",
       "        [1.  , 0.  ],\n",
       "        [1.  , 0.  ],\n",
       "        [0.  , 1.  ],\n",
       "        [1.  , 0.  ],\n",
       "        [1.  , 0.  ],\n",
       "        [0.  , 1.  ],\n",
       "        [0.  , 1.  ],\n",
       "        [1.  , 0.  ],\n",
       "        [1.  , 0.  ],\n",
       "        [0.25, 0.75],\n",
       "        [0.45, 0.55],\n",
       "        [1.  , 0.  ],\n",
       "        [0.65, 0.35],\n",
       "        [0.  , 1.  ],\n",
       "        [0.  , 1.  ],\n",
       "        [0.  , 1.  ],\n",
       "        [0.  , 1.  ],\n",
       "        [1.  , 0.  ],\n",
       "        [0.55, 0.45],\n",
       "        [0.85, 0.15],\n",
       "        [0.  , 1.  ],\n",
       "        [1.  , 0.  ],\n",
       "        [1.  , 0.  ],\n",
       "        [1.  , 0.  ],\n",
       "        [1.  , 0.  ],\n",
       "        [1.  , 0.  ],\n",
       "        [1.  , 0.  ],\n",
       "        [1.  , 0.  ],\n",
       "        [1.  , 0.  ],\n",
       "        [1.  , 0.  ],\n",
       "        [0.75, 0.25],\n",
       "        [0.  , 1.  ],\n",
       "        [1.  , 0.  ],\n",
       "        [0.  , 1.  ],\n",
       "        [0.  , 1.  ],\n",
       "        [0.  , 1.  ],\n",
       "        [1.  , 0.  ],\n",
       "        [0.  , 1.  ],\n",
       "        [0.  , 1.  ],\n",
       "        [0.  , 1.  ],\n",
       "        [1.  , 0.  ],\n",
       "        [1.  , 0.  ],\n",
       "        [0.  , 1.  ],\n",
       "        [0.7 , 0.3 ],\n",
       "        [1.  , 0.  ],\n",
       "        [1.  , 0.  ],\n",
       "        [1.  , 0.  ],\n",
       "        [1.  , 0.  ],\n",
       "        [0.  , 1.  ],\n",
       "        [1.  , 0.  ],\n",
       "        [1.  , 0.  ],\n",
       "        [0.95, 0.05],\n",
       "        [0.  , 1.  ],\n",
       "        [1.  , 0.  ],\n",
       "        [1.  , 0.  ],\n",
       "        [0.  , 1.  ],\n",
       "        [1.  , 0.  ],\n",
       "        [1.  , 0.  ],\n",
       "        [1.  , 0.  ],\n",
       "        [1.  , 0.  ],\n",
       "        [1.  , 0.  ],\n",
       "        [1.  , 0.  ],\n",
       "        [0.9 , 0.1 ],\n",
       "        [1.  , 0.  ],\n",
       "        [0.  , 1.  ],\n",
       "        [0.  , 1.  ]]))"
      ]
     },
     "execution_count": 138,
     "metadata": {},
     "output_type": "execute_result"
    }
   ],
   "source": [
    "proba_target_i = bin_clf_i.predict_proba(X_test)\n",
    "len(proba_target_i), proba_target_i"
   ]
  },
  {
   "cell_type": "code",
   "execution_count": 139,
   "id": "2feae288",
   "metadata": {},
   "outputs": [
    {
     "data": {
      "text/plain": [
       "array([0.  , 0.  , 0.  , 1.  , 0.  , 0.  , 0.  , 0.45, 0.  , 0.  , 0.15,\n",
       "       0.  , 0.  , 0.  , 1.  , 0.  , 1.  , 0.  , 0.  , 0.  , 1.  , 1.  ,\n",
       "       0.  , 0.  , 0.  , 0.  , 0.  , 0.25, 1.  , 1.  , 0.  , 0.  , 0.  ,\n",
       "       0.  , 1.  , 0.  , 0.  , 0.  , 0.  , 0.  , 1.  , 0.  , 0.  , 1.  ,\n",
       "       1.  , 0.  , 0.  , 0.75, 0.55, 0.  , 0.35, 1.  , 1.  , 1.  , 1.  ,\n",
       "       0.  , 0.45, 0.15, 1.  , 0.  , 0.  , 0.  , 0.  , 0.  , 0.  , 0.  ,\n",
       "       0.  , 0.  , 0.25, 1.  , 0.  , 1.  , 1.  , 1.  , 0.  , 1.  , 1.  ,\n",
       "       1.  , 0.  , 0.  , 1.  , 0.3 , 0.  , 0.  , 0.  , 0.  , 1.  , 0.  ,\n",
       "       0.  , 0.05, 1.  , 0.  , 0.  , 1.  , 0.  , 0.  , 0.  , 0.  , 0.  ,\n",
       "       0.  , 0.1 , 0.  , 1.  , 1.  ])"
      ]
     },
     "execution_count": 139,
     "metadata": {},
     "output_type": "execute_result"
    }
   ],
   "source": [
    "true_proba_target_i = proba_target_i[:,1]\n",
    "true_proba_target_i"
   ]
  },
  {
   "cell_type": "code",
   "execution_count": 140,
   "id": "04011abc",
   "metadata": {},
   "outputs": [],
   "source": [
    "from sklearn.metrics import roc_curve, roc_auc_score"
   ]
  },
  {
   "cell_type": "code",
   "execution_count": 141,
   "id": "7777f8a4",
   "metadata": {},
   "outputs": [],
   "source": [
    "def draw_roc_curve(y_true, y_score, pos_label, average):\n",
    "    fpr, tpr, thresholds = roc_curve(y_true, y_score, \n",
    "                                     pos_label=pos_label)\n",
    "    roc_auc_value = roc_auc_score(y_true, y_score, average=average)\n",
    "    plt.figure()\n",
    "    lw = 2\n",
    "    plt.plot(fpr, tpr, color='darkorange',\n",
    "             lw=lw, label='ROC curve (area = %0.2f)' % roc_auc_value)\n",
    "    plt.plot([0, 1], [0, 1], color='navy', lw=lw, linestyle='--')\n",
    "    plt.xlim([0.0, 1.0])\n",
    "    plt.ylim([0.0, 1.05])\n",
    "    plt.xlabel('False Positive Rate')\n",
    "    plt.ylabel('True Positive Rate')\n",
    "    plt.title('Receiver operating characteristic')\n",
    "    plt.legend(loc=\"lower right\")\n",
    "    plt.show()"
   ]
  },
  {
   "cell_type": "code",
   "execution_count": 145,
   "id": "d9e8fab3",
   "metadata": {},
   "outputs": [
    {
     "data": {
      "image/png": "[encoded data removed]",
      "text/plain": [
       "<Figure size 640x480 with 1 Axes>"
      ]
     },
     "metadata": {},
     "output_type": "display_data"
    }
   ],
   "source": [
    "draw_roc_curve(bin_y_test, bin_target_i, pos_label=1, average='micro')"
   ]
  },
  {
   "cell_type": "code",
   "execution_count": 146,
   "id": "3b945239",
   "metadata": {},
   "outputs": [
    {
     "name": "stderr",
     "output_type": "stream",
     "text": [
      "/Users/evgeniayurova/opt/anaconda3/lib/python3.9/site-packages/sklearn/neighbors/_classification.py:228: FutureWarning: Unlike other reduction functions (e.g. `skew`, `kurtosis`), the default behavior of `mode` typically preserves the axis it acts along. In SciPy 1.11.0, this behavior will change: the default value of `keepdims` will become False, the `axis` over which the statistic is taken will be eliminated, and the value None will no longer be accepted. Set `keepdims` to True or False to avoid this warning.\n",
      "  mode, _ = stats.mode(_y[neigh_ind, k], axis=1)\n"
     ]
    },
    {
     "data": {
      "text/plain": [
       "array([0, 0, 0, 1, 0, 0, 0, 1, 0, 0, 0, 0, 0, 0, 1, 0, 1, 0, 0, 0, 1, 1,\n",
       "       0, 0, 0, 0, 0, 0, 1, 1, 0, 0, 0, 0, 1, 0, 0, 0, 0, 0, 1, 0, 0, 1,\n",
       "       1, 0, 0, 1, 1, 0, 0, 1, 1, 1, 1, 0, 1, 0, 1, 0, 0, 0, 0, 0, 0, 0,\n",
       "       0, 0, 0, 1, 0, 1, 1, 1, 0, 1, 1, 1, 0, 0, 1, 0, 0, 0, 0, 0, 1, 0,\n",
       "       0, 0, 1, 0, 0, 1, 0, 0, 0, 0, 0, 0, 0, 0, 1, 1])"
      ]
     },
     "execution_count": 146,
     "metadata": {},
     "output_type": "execute_result"
    }
   ],
   "source": [
    "bin_clf_o = KNeighborsClassifier(n_neighbors=5)\n",
    "bin_clf_o.fit(X_train, bin_y_train)\n",
    "bin_clf_o.predict(X_test)"
   ]
  },
  {
   "cell_type": "code",
   "execution_count": 147,
   "id": "e1ab45d8",
   "metadata": {},
   "outputs": [
    {
     "data": {
      "text/plain": [
       "(104,\n",
       " array([[1. , 0. ],\n",
       "        [1. , 0. ],\n",
       "        [1. , 0. ],\n",
       "        [0. , 1. ],\n",
       "        [1. , 0. ],\n",
       "        [1. , 0. ],\n",
       "        [1. , 0. ],\n",
       "        [0.2, 0.8],\n",
       "        [1. , 0. ],\n",
       "        [1. , 0. ],\n",
       "        [1. , 0. ],\n",
       "        [1. , 0. ],\n",
       "        [1. , 0. ],\n",
       "        [1. , 0. ],\n",
       "        [0. , 1. ],\n",
       "        [1. , 0. ],\n",
       "        [0. , 1. ],\n",
       "        [1. , 0. ],\n",
       "        [1. , 0. ],\n",
       "        [1. , 0. ],\n",
       "        [0. , 1. ],\n",
       "        [0. , 1. ],\n",
       "        [1. , 0. ],\n",
       "        [1. , 0. ],\n",
       "        [1. , 0. ],\n",
       "        [1. , 0. ],\n",
       "        [1. , 0. ],\n",
       "        [1. , 0. ],\n",
       "        [0. , 1. ],\n",
       "        [0. , 1. ],\n",
       "        [1. , 0. ],\n",
       "        [1. , 0. ],\n",
       "        [1. , 0. ],\n",
       "        [1. , 0. ],\n",
       "        [0. , 1. ],\n",
       "        [1. , 0. ],\n",
       "        [1. , 0. ],\n",
       "        [1. , 0. ],\n",
       "        [1. , 0. ],\n",
       "        [1. , 0. ],\n",
       "        [0. , 1. ],\n",
       "        [1. , 0. ],\n",
       "        [1. , 0. ],\n",
       "        [0. , 1. ],\n",
       "        [0. , 1. ],\n",
       "        [1. , 0. ],\n",
       "        [1. , 0. ],\n",
       "        [0. , 1. ],\n",
       "        [0.2, 0.8],\n",
       "        [1. , 0. ],\n",
       "        [1. , 0. ],\n",
       "        [0. , 1. ],\n",
       "        [0. , 1. ],\n",
       "        [0. , 1. ],\n",
       "        [0. , 1. ],\n",
       "        [1. , 0. ],\n",
       "        [0. , 1. ],\n",
       "        [1. , 0. ],\n",
       "        [0. , 1. ],\n",
       "        [1. , 0. ],\n",
       "        [1. , 0. ],\n",
       "        [1. , 0. ],\n",
       "        [1. , 0. ],\n",
       "        [1. , 0. ],\n",
       "        [1. , 0. ],\n",
       "        [1. , 0. ],\n",
       "        [1. , 0. ],\n",
       "        [1. , 0. ],\n",
       "        [0.8, 0.2],\n",
       "        [0. , 1. ],\n",
       "        [1. , 0. ],\n",
       "        [0. , 1. ],\n",
       "        [0. , 1. ],\n",
       "        [0. , 1. ],\n",
       "        [1. , 0. ],\n",
       "        [0. , 1. ],\n",
       "        [0. , 1. ],\n",
       "        [0. , 1. ],\n",
       "        [1. , 0. ],\n",
       "        [1. , 0. ],\n",
       "        [0. , 1. ],\n",
       "        [1. , 0. ],\n",
       "        [1. , 0. ],\n",
       "        [1. , 0. ],\n",
       "        [1. , 0. ],\n",
       "        [1. , 0. ],\n",
       "        [0. , 1. ],\n",
       "        [1. , 0. ],\n",
       "        [1. , 0. ],\n",
       "        [1. , 0. ],\n",
       "        [0. , 1. ],\n",
       "        [1. , 0. ],\n",
       "        [1. , 0. ],\n",
       "        [0. , 1. ],\n",
       "        [1. , 0. ],\n",
       "        [1. , 0. ],\n",
       "        [1. , 0. ],\n",
       "        [1. , 0. ],\n",
       "        [1. , 0. ],\n",
       "        [1. , 0. ],\n",
       "        [1. , 0. ],\n",
       "        [1. , 0. ],\n",
       "        [0. , 1. ],\n",
       "        [0. , 1. ]]))"
      ]
     },
     "execution_count": 147,
     "metadata": {},
     "output_type": "execute_result"
    }
   ],
   "source": [
    "proba_target_o = bin_clf_o.predict_proba(X_test)\n",
    "len(proba_target_o), proba_target_o"
   ]
  },
  {
   "cell_type": "code",
   "execution_count": 148,
   "id": "b76b0d55",
   "metadata": {},
   "outputs": [
    {
     "data": {
      "text/plain": [
       "array([0. , 0. , 0. , 1. , 0. , 0. , 0. , 0.8, 0. , 0. , 0. , 0. , 0. ,\n",
       "       0. , 1. , 0. , 1. , 0. , 0. , 0. , 1. , 1. , 0. , 0. , 0. , 0. ,\n",
       "       0. , 0. , 1. , 1. , 0. , 0. , 0. , 0. , 1. , 0. , 0. , 0. , 0. ,\n",
       "       0. , 1. , 0. , 0. , 1. , 1. , 0. , 0. , 1. , 0.8, 0. , 0. , 1. ,\n",
       "       1. , 1. , 1. , 0. , 1. , 0. , 1. , 0. , 0. , 0. , 0. , 0. , 0. ,\n",
       "       0. , 0. , 0. , 0.2, 1. , 0. , 1. , 1. , 1. , 0. , 1. , 1. , 1. ,\n",
       "       0. , 0. , 1. , 0. , 0. , 0. , 0. , 0. , 1. , 0. , 0. , 0. , 1. ,\n",
       "       0. , 0. , 1. , 0. , 0. , 0. , 0. , 0. , 0. , 0. , 0. , 1. , 1. ])"
      ]
     },
     "execution_count": 148,
     "metadata": {},
     "output_type": "execute_result"
    }
   ],
   "source": [
    "true_proba_target_o = proba_target_o[:,1]\n",
    "true_proba_target_o"
   ]
  },
  {
   "cell_type": "code",
   "execution_count": 149,
   "id": "6c5c4258",
   "metadata": {},
   "outputs": [
    {
     "data": {
      "image/png": "[encoded data removed]",
      "text/plain": [
       "<Figure size 640x480 with 1 Axes>"
      ]
     },
     "metadata": {},
     "output_type": "display_data"
    }
   ],
   "source": [
    "draw_roc_curve(bin_y_test, bin_target_o, pos_label=1, average='micro')"
   ]
  },
  {
   "cell_type": "markdown",
   "id": "a1f2a173",
   "metadata": {},
   "source": [
    "Точность у оптимальной и исходной модели одинаковая"
   ]
  },
  {
   "cell_type": "code",
   "execution_count": null,
   "id": "365e59fd",
   "metadata": {},
   "outputs": [],
   "source": []
  }
 ],
 "metadata": {
  "kernelspec": {
   "display_name": "Python 3 (ipykernel)",
   "language": "python",
   "name": "python3"
  },
  "language_info": {
   "codemirror_mode": {
    "name": "ipython",
    "version": 3
   },
   "file_extension": ".py",
   "mimetype": "text/x-python",
   "name": "python",
   "nbconvert_exporter": "python",
   "pygments_lexer": "ipython3",
   "version": "3.9.13"
  }
 },
 "nbformat": 4,
 "nbformat_minor": 5
}
